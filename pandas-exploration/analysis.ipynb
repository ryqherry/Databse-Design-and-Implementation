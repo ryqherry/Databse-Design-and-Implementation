{
 "cells": [
  {
   "cell_type": "markdown",
   "metadata": {},
   "source": [
    "# pandas exploration\n",
    "In this assignment you will select a data set and do some munging and analysis of it using `pandas`, Jupyter Notebooks, and associated Python-centric data science tools."
   ]
  },
  {
   "cell_type": "markdown",
   "metadata": {},
   "source": [
    "Import the core data science libraries:"
   ]
  },
  {
   "cell_type": "code",
   "execution_count": 1,
   "metadata": {},
   "outputs": [],
   "source": [
    "%matplotlib inline\n",
    "import matplotlib.pyplot as plt\n",
    "import numpy as np\n",
    "import pandas as pd"
   ]
  },
  {
   "cell_type": "markdown",
   "metadata": {},
   "source": [
    "## Import the raw data\n",
    "In this section, you will import the raw data into a `pandas` DataFrame."
   ]
  },
  {
   "cell_type": "code",
   "execution_count": 3,
   "metadata": {},
   "outputs": [],
   "source": [
    "df = pd.read_csv('./data/data-by-day.csv')"
   ]
  },
  {
   "cell_type": "markdown",
   "metadata": {
    "tags": []
   },
   "source": [
    "## Data inspection\n",
    "In this section, you will show enough of your data for a viewer to get a general sense of how the data is structured and any unique features of it.  Complete each of the indicated tasks in a Code cell, making sure to include a Markdown cell above each Code cell that explains what is being shown by the code.  \n",
    "- Show 5 rows, selected at random, from the data set.\n",
    "- Show each of the column names and their data types.\n",
    "- Show any unique features of your chosen data set.\n",
    "\n",
    "Feel free to add as many additional cells as you need to help explain the raw data."
   ]
  },
  {
   "cell_type": "markdown",
   "metadata": {
    "tags": []
   },
   "source": [
    "- Show 5 rows, selected at random, from the data set."
   ]
  },
  {
   "cell_type": "code",
   "execution_count": 13,
   "metadata": {},
   "outputs": [
    {
     "data": {
      "text/html": [
       "<div>\n",
       "<style scoped>\n",
       "    .dataframe tbody tr th:only-of-type {\n",
       "        vertical-align: middle;\n",
       "    }\n",
       "\n",
       "    .dataframe tbody tr th {\n",
       "        vertical-align: top;\n",
       "    }\n",
       "\n",
       "    .dataframe thead th {\n",
       "        text-align: right;\n",
       "    }\n",
       "</style>\n",
       "<table border=\"1\" class=\"dataframe\">\n",
       "  <thead>\n",
       "    <tr style=\"text-align: right;\">\n",
       "      <th></th>\n",
       "      <th>date_of_interest</th>\n",
       "      <th>CASE_COUNT</th>\n",
       "      <th>PROBABLE_CASE_COUNT</th>\n",
       "      <th>HOSPITALIZED_COUNT</th>\n",
       "      <th>DEATH_COUNT</th>\n",
       "      <th>PROBABLE_DEATH_COUNT</th>\n",
       "      <th>CASE_COUNT_7DAY_AVG</th>\n",
       "      <th>ALL_CASE_COUNT_7DAY_AVG</th>\n",
       "      <th>HOSP_COUNT_7DAY_AVG</th>\n",
       "      <th>DEATH_COUNT_7DAY_AVG</th>\n",
       "      <th>...</th>\n",
       "      <th>SI_HOSPITALIZED_COUNT</th>\n",
       "      <th>SI_DEATH_COUNT</th>\n",
       "      <th>SI_PROBABLE_DEATH_COUNT</th>\n",
       "      <th>SI_CASE_COUNT_7DAY_AVG</th>\n",
       "      <th>SI_PROBABLE_CASE_COUNT_7DAY_AVG</th>\n",
       "      <th>SI_ALL_CASE_COUNT_7DAY_AVG</th>\n",
       "      <th>SI_HOSPITALIZED_COUNT_7DAY_AVG</th>\n",
       "      <th>SI_DEATH_COUNT_7DAY_AVG</th>\n",
       "      <th>SI_ALL_DEATH_COUNT_7DAY_AVG</th>\n",
       "      <th>INCOMPLETE</th>\n",
       "    </tr>\n",
       "  </thead>\n",
       "  <tbody>\n",
       "    <tr>\n",
       "      <th>746</th>\n",
       "      <td>03/16/2022</td>\n",
       "      <td>872</td>\n",
       "      <td>146</td>\n",
       "      <td>24</td>\n",
       "      <td>8</td>\n",
       "      <td>0</td>\n",
       "      <td>666</td>\n",
       "      <td>773</td>\n",
       "      <td>26</td>\n",
       "      <td>10</td>\n",
       "      <td>...</td>\n",
       "      <td>3</td>\n",
       "      <td>1</td>\n",
       "      <td>0</td>\n",
       "      <td>28</td>\n",
       "      <td>4</td>\n",
       "      <td>32</td>\n",
       "      <td>2</td>\n",
       "      <td>1</td>\n",
       "      <td>1</td>\n",
       "      <td>0</td>\n",
       "    </tr>\n",
       "    <tr>\n",
       "      <th>502</th>\n",
       "      <td>07/15/2021</td>\n",
       "      <td>553</td>\n",
       "      <td>232</td>\n",
       "      <td>28</td>\n",
       "      <td>5</td>\n",
       "      <td>0</td>\n",
       "      <td>417</td>\n",
       "      <td>580</td>\n",
       "      <td>29</td>\n",
       "      <td>3</td>\n",
       "      <td>...</td>\n",
       "      <td>2</td>\n",
       "      <td>1</td>\n",
       "      <td>0</td>\n",
       "      <td>41</td>\n",
       "      <td>9</td>\n",
       "      <td>50</td>\n",
       "      <td>1</td>\n",
       "      <td>0</td>\n",
       "      <td>0</td>\n",
       "      <td>0</td>\n",
       "    </tr>\n",
       "    <tr>\n",
       "      <th>459</th>\n",
       "      <td>06/02/2021</td>\n",
       "      <td>244</td>\n",
       "      <td>67</td>\n",
       "      <td>44</td>\n",
       "      <td>11</td>\n",
       "      <td>0</td>\n",
       "      <td>195</td>\n",
       "      <td>254</td>\n",
       "      <td>32</td>\n",
       "      <td>10</td>\n",
       "      <td>...</td>\n",
       "      <td>5</td>\n",
       "      <td>0</td>\n",
       "      <td>0</td>\n",
       "      <td>19</td>\n",
       "      <td>5</td>\n",
       "      <td>24</td>\n",
       "      <td>2</td>\n",
       "      <td>1</td>\n",
       "      <td>1</td>\n",
       "      <td>0</td>\n",
       "    </tr>\n",
       "    <tr>\n",
       "      <th>943</th>\n",
       "      <td>09/29/2022</td>\n",
       "      <td>1848</td>\n",
       "      <td>443</td>\n",
       "      <td>109</td>\n",
       "      <td>11</td>\n",
       "      <td>0</td>\n",
       "      <td>1625</td>\n",
       "      <td>2046</td>\n",
       "      <td>120</td>\n",
       "      <td>7</td>\n",
       "      <td>...</td>\n",
       "      <td>9</td>\n",
       "      <td>0</td>\n",
       "      <td>0</td>\n",
       "      <td>137</td>\n",
       "      <td>36</td>\n",
       "      <td>173</td>\n",
       "      <td>11</td>\n",
       "      <td>1</td>\n",
       "      <td>1</td>\n",
       "      <td>0</td>\n",
       "    </tr>\n",
       "    <tr>\n",
       "      <th>916</th>\n",
       "      <td>09/02/2022</td>\n",
       "      <td>1481</td>\n",
       "      <td>377</td>\n",
       "      <td>115</td>\n",
       "      <td>12</td>\n",
       "      <td>0</td>\n",
       "      <td>1608</td>\n",
       "      <td>2033</td>\n",
       "      <td>114</td>\n",
       "      <td>11</td>\n",
       "      <td>...</td>\n",
       "      <td>5</td>\n",
       "      <td>2</td>\n",
       "      <td>0</td>\n",
       "      <td>102</td>\n",
       "      <td>26</td>\n",
       "      <td>129</td>\n",
       "      <td>8</td>\n",
       "      <td>1</td>\n",
       "      <td>1</td>\n",
       "      <td>0</td>\n",
       "    </tr>\n",
       "  </tbody>\n",
       "</table>\n",
       "<p>5 rows × 67 columns</p>\n",
       "</div>"
      ],
      "text/plain": [
       "    date_of_interest  CASE_COUNT  PROBABLE_CASE_COUNT  HOSPITALIZED_COUNT  \\\n",
       "746       03/16/2022         872                  146                  24   \n",
       "502       07/15/2021         553                  232                  28   \n",
       "459       06/02/2021         244                   67                  44   \n",
       "943       09/29/2022        1848                  443                 109   \n",
       "916       09/02/2022        1481                  377                 115   \n",
       "\n",
       "     DEATH_COUNT  PROBABLE_DEATH_COUNT  CASE_COUNT_7DAY_AVG  \\\n",
       "746            8                     0                  666   \n",
       "502            5                     0                  417   \n",
       "459           11                     0                  195   \n",
       "943           11                     0                 1625   \n",
       "916           12                     0                 1608   \n",
       "\n",
       "     ALL_CASE_COUNT_7DAY_AVG  HOSP_COUNT_7DAY_AVG  DEATH_COUNT_7DAY_AVG  ...  \\\n",
       "746                      773                   26                    10  ...   \n",
       "502                      580                   29                     3  ...   \n",
       "459                      254                   32                    10  ...   \n",
       "943                     2046                  120                     7  ...   \n",
       "916                     2033                  114                    11  ...   \n",
       "\n",
       "     SI_HOSPITALIZED_COUNT  SI_DEATH_COUNT  SI_PROBABLE_DEATH_COUNT  \\\n",
       "746                      3               1                        0   \n",
       "502                      2               1                        0   \n",
       "459                      5               0                        0   \n",
       "943                      9               0                        0   \n",
       "916                      5               2                        0   \n",
       "\n",
       "     SI_CASE_COUNT_7DAY_AVG  SI_PROBABLE_CASE_COUNT_7DAY_AVG  \\\n",
       "746                      28                                4   \n",
       "502                      41                                9   \n",
       "459                      19                                5   \n",
       "943                     137                               36   \n",
       "916                     102                               26   \n",
       "\n",
       "     SI_ALL_CASE_COUNT_7DAY_AVG  SI_HOSPITALIZED_COUNT_7DAY_AVG  \\\n",
       "746                          32                               2   \n",
       "502                          50                               1   \n",
       "459                          24                               2   \n",
       "943                         173                              11   \n",
       "916                         129                               8   \n",
       "\n",
       "     SI_DEATH_COUNT_7DAY_AVG  SI_ALL_DEATH_COUNT_7DAY_AVG  INCOMPLETE  \n",
       "746                        1                            1           0  \n",
       "502                        0                            0           0  \n",
       "459                        1                            1           0  \n",
       "943                        1                            1           0  \n",
       "916                        1                            1           0  \n",
       "\n",
       "[5 rows x 67 columns]"
      ]
     },
     "execution_count": 13,
     "metadata": {},
     "output_type": "execute_result"
    }
   ],
   "source": [
    "df.sample(5)"
   ]
  },
  {
   "cell_type": "markdown",
   "metadata": {
    "tags": []
   },
   "source": [
    "- Show each of the column names and their data types."
   ]
  },
  {
   "cell_type": "code",
   "execution_count": 6,
   "metadata": {},
   "outputs": [
    {
     "name": "stdout",
     "output_type": "stream",
     "text": [
      "<class 'pandas.core.frame.DataFrame'>\n",
      "RangeIndex: 1151 entries, 0 to 1150\n",
      "Data columns (total 67 columns):\n",
      " #   Column                           Non-Null Count  Dtype \n",
      "---  ------                           --------------  ----- \n",
      " 0   date_of_interest                 1151 non-null   object\n",
      " 1   CASE_COUNT                       1151 non-null   int64 \n",
      " 2   PROBABLE_CASE_COUNT              1151 non-null   int64 \n",
      " 3   HOSPITALIZED_COUNT               1151 non-null   int64 \n",
      " 4   DEATH_COUNT                      1151 non-null   int64 \n",
      " 5   PROBABLE_DEATH_COUNT             1151 non-null   int64 \n",
      " 6   CASE_COUNT_7DAY_AVG              1151 non-null   int64 \n",
      " 7   ALL_CASE_COUNT_7DAY_AVG          1151 non-null   int64 \n",
      " 8   HOSP_COUNT_7DAY_AVG              1151 non-null   int64 \n",
      " 9   DEATH_COUNT_7DAY_AVG             1151 non-null   int64 \n",
      " 10  ALL_DEATH_COUNT_7DAY_AVG         1151 non-null   int64 \n",
      " 11  BX_CASE_COUNT                    1151 non-null   int64 \n",
      " 12  BX_PROBABLE_CASE_COUNT           1151 non-null   int64 \n",
      " 13  BX_HOSPITALIZED_COUNT            1151 non-null   int64 \n",
      " 14  BX_DEATH_COUNT                   1151 non-null   int64 \n",
      " 15  BX_PROBABLE_DEATH_COUNT          1151 non-null   int64 \n",
      " 16  BX_CASE_COUNT_7DAY_AVG           1151 non-null   int64 \n",
      " 17  BX_PROBABLE_CASE_COUNT_7DAY_AVG  1151 non-null   int64 \n",
      " 18  BX_ALL_CASE_COUNT_7DAY_AVG       1151 non-null   int64 \n",
      " 19  BX_HOSPITALIZED_COUNT_7DAY_AVG   1151 non-null   int64 \n",
      " 20  BX_DEATH_COUNT_7DAY_AVG          1151 non-null   int64 \n",
      " 21  BX_ALL_DEATH_COUNT_7DAY_AVG      1151 non-null   int64 \n",
      " 22  BK_CASE_COUNT                    1151 non-null   int64 \n",
      " 23  BK_PROBABLE_CASE_COUNT           1151 non-null   int64 \n",
      " 24  BK_HOSPITALIZED_COUNT            1151 non-null   int64 \n",
      " 25  BK_DEATH_COUNT                   1151 non-null   int64 \n",
      " 26  BK_PROBABLE_DEATH_COUNT          1151 non-null   int64 \n",
      " 27  BK_CASE_COUNT_7DAY_AVG           1151 non-null   int64 \n",
      " 28  BK_PROBABLE_CASE_COUNT_7DAY_AVG  1151 non-null   int64 \n",
      " 29  BK_ALL_CASE_COUNT_7DAY_AVG       1151 non-null   int64 \n",
      " 30  BK_HOSPITALIZED_COUNT_7DAY_AVG   1151 non-null   int64 \n",
      " 31  BK_DEATH_COUNT_7DAY_AVG          1151 non-null   int64 \n",
      " 32  BK_ALL_DEATH_COUNT_7DAY_AVG      1151 non-null   int64 \n",
      " 33  MN_CASE_COUNT                    1151 non-null   int64 \n",
      " 34  MN_PROBABLE_CASE_COUNT           1151 non-null   int64 \n",
      " 35  MN_HOSPITALIZED_COUNT            1151 non-null   int64 \n",
      " 36  MN_DEATH_COUNT                   1151 non-null   int64 \n",
      " 37  MN_PROBABLE_DEATH_COUNT          1151 non-null   int64 \n",
      " 38  MN_CASE_COUNT_7DAY_AVG           1151 non-null   int64 \n",
      " 39  MN_PROBABLE_CASE_COUNT_7DAY_AVG  1151 non-null   int64 \n",
      " 40  MN_ALL_CASE_COUNT_7DAY_AVG       1151 non-null   int64 \n",
      " 41  MN_HOSPITALIZED_COUNT_7DAY_AVG   1151 non-null   int64 \n",
      " 42  MN_DEATH_COUNT_7DAY_AVG          1151 non-null   int64 \n",
      " 43  MN_ALL_DEATH_COUNT_7DAY_AVG      1151 non-null   int64 \n",
      " 44  QN_CASE_COUNT                    1151 non-null   int64 \n",
      " 45  QN_PROBABLE_CASE_COUNT           1151 non-null   int64 \n",
      " 46  QN_HOSPITALIZED_COUNT            1151 non-null   int64 \n",
      " 47  QN_DEATH_COUNT                   1151 non-null   int64 \n",
      " 48  QN_PROBABLE_DEATH_COUNT          1151 non-null   int64 \n",
      " 49  QN_CASE_COUNT_7DAY_AVG           1151 non-null   int64 \n",
      " 50  QN_PROBABLE_CASE_COUNT_7DAY_AVG  1151 non-null   int64 \n",
      " 51  QN_ALL_CASE_COUNT_7DAY_AVG       1151 non-null   int64 \n",
      " 52  QN_HOSPITALIZED_COUNT_7DAY_AVG   1151 non-null   int64 \n",
      " 53  QN_DEATH_COUNT_7DAY_AVG          1151 non-null   int64 \n",
      " 54  QN_ALL_DEATH_COUNT_7DAY_AVG      1151 non-null   int64 \n",
      " 55  SI_CASE_COUNT                    1151 non-null   int64 \n",
      " 56  SI_PROBABLE_CASE_COUNT           1151 non-null   int64 \n",
      " 57  SI_HOSPITALIZED_COUNT            1151 non-null   int64 \n",
      " 58  SI_DEATH_COUNT                   1151 non-null   int64 \n",
      " 59  SI_PROBABLE_DEATH_COUNT          1151 non-null   int64 \n",
      " 60  SI_CASE_COUNT_7DAY_AVG           1151 non-null   int64 \n",
      " 61  SI_PROBABLE_CASE_COUNT_7DAY_AVG  1151 non-null   int64 \n",
      " 62  SI_ALL_CASE_COUNT_7DAY_AVG       1151 non-null   int64 \n",
      " 63  SI_HOSPITALIZED_COUNT_7DAY_AVG   1151 non-null   int64 \n",
      " 64  SI_DEATH_COUNT_7DAY_AVG          1151 non-null   int64 \n",
      " 65  SI_ALL_DEATH_COUNT_7DAY_AVG      1151 non-null   int64 \n",
      " 66  INCOMPLETE                       1151 non-null   int64 \n",
      "dtypes: int64(66), object(1)\n",
      "memory usage: 602.6+ KB\n"
     ]
    }
   ],
   "source": [
    "df.info()"
   ]
  },
  {
   "cell_type": "markdown",
   "metadata": {
    "tags": []
   },
   "source": [
    "- Show any unique features of your chosen data set: All the values in the dataset are not null. "
   ]
  },
  {
   "cell_type": "code",
   "execution_count": 7,
   "metadata": {},
   "outputs": [
    {
     "data": {
      "text/plain": [
       "0"
      ]
     },
     "execution_count": 7,
     "metadata": {},
     "output_type": "execute_result"
    }
   ],
   "source": [
    "newdf = df.isnull()\n",
    "newdf.sum().sum()"
   ]
  },
  {
   "cell_type": "markdown",
   "metadata": {},
   "source": [
    "## Data munging\n",
    "Place your **data munging** code and documentation within this section.  \n",
    "- Keep each of your Code cells short and focused on a single task.  \n",
    "- Include a Markdown cell above each code cell that describes what task the code within the code cell is performing.\n",
    "- Make as many code cells as you need to complete the munging - a few have been created for you to start with.\n",
    "- Display 5 sample rows of the modified data after each transformation so a viewer can see how the data has changed.\n",
    "\n",
    "**Note**: If you believe that your data set does not require any munging, please explain in detail.  Create Markdown cells that explain your thinking and create Code cells that show any specific structures of the data you refer to in your explanation."
   ]
  },
  {
   "cell_type": "markdown",
   "metadata": {},
   "source": [
    "- Add a column which shows year for each record"
   ]
  },
  {
   "cell_type": "code",
   "execution_count": 16,
   "metadata": {},
   "outputs": [],
   "source": [
    "years = df['date_of_interest'].map(lambda x: str(x)[-4:])\n",
    "df['YEAR'] = years"
   ]
  },
  {
   "cell_type": "markdown",
   "metadata": {},
   "source": [
    "- Display the modified dataset"
   ]
  },
  {
   "cell_type": "code",
   "execution_count": 17,
   "metadata": {},
   "outputs": [
    {
     "data": {
      "text/html": [
       "<div>\n",
       "<style scoped>\n",
       "    .dataframe tbody tr th:only-of-type {\n",
       "        vertical-align: middle;\n",
       "    }\n",
       "\n",
       "    .dataframe tbody tr th {\n",
       "        vertical-align: top;\n",
       "    }\n",
       "\n",
       "    .dataframe thead th {\n",
       "        text-align: right;\n",
       "    }\n",
       "</style>\n",
       "<table border=\"1\" class=\"dataframe\">\n",
       "  <thead>\n",
       "    <tr style=\"text-align: right;\">\n",
       "      <th></th>\n",
       "      <th>date_of_interest</th>\n",
       "      <th>CASE_COUNT</th>\n",
       "      <th>PROBABLE_CASE_COUNT</th>\n",
       "      <th>HOSPITALIZED_COUNT</th>\n",
       "      <th>DEATH_COUNT</th>\n",
       "      <th>PROBABLE_DEATH_COUNT</th>\n",
       "      <th>CASE_COUNT_7DAY_AVG</th>\n",
       "      <th>ALL_CASE_COUNT_7DAY_AVG</th>\n",
       "      <th>HOSP_COUNT_7DAY_AVG</th>\n",
       "      <th>DEATH_COUNT_7DAY_AVG</th>\n",
       "      <th>...</th>\n",
       "      <th>SI_DEATH_COUNT</th>\n",
       "      <th>SI_PROBABLE_DEATH_COUNT</th>\n",
       "      <th>SI_CASE_COUNT_7DAY_AVG</th>\n",
       "      <th>SI_PROBABLE_CASE_COUNT_7DAY_AVG</th>\n",
       "      <th>SI_ALL_CASE_COUNT_7DAY_AVG</th>\n",
       "      <th>SI_HOSPITALIZED_COUNT_7DAY_AVG</th>\n",
       "      <th>SI_DEATH_COUNT_7DAY_AVG</th>\n",
       "      <th>SI_ALL_DEATH_COUNT_7DAY_AVG</th>\n",
       "      <th>INCOMPLETE</th>\n",
       "      <th>YEAR</th>\n",
       "    </tr>\n",
       "  </thead>\n",
       "  <tbody>\n",
       "    <tr>\n",
       "      <th>738</th>\n",
       "      <td>03/08/2022</td>\n",
       "      <td>682</td>\n",
       "      <td>86</td>\n",
       "      <td>23</td>\n",
       "      <td>5</td>\n",
       "      <td>0</td>\n",
       "      <td>527</td>\n",
       "      <td>606</td>\n",
       "      <td>30</td>\n",
       "      <td>10</td>\n",
       "      <td>...</td>\n",
       "      <td>0</td>\n",
       "      <td>0</td>\n",
       "      <td>30</td>\n",
       "      <td>6</td>\n",
       "      <td>35</td>\n",
       "      <td>3</td>\n",
       "      <td>1</td>\n",
       "      <td>1</td>\n",
       "      <td>0</td>\n",
       "      <td>2022</td>\n",
       "    </tr>\n",
       "    <tr>\n",
       "      <th>716</th>\n",
       "      <td>02/14/2022</td>\n",
       "      <td>1017</td>\n",
       "      <td>108</td>\n",
       "      <td>76</td>\n",
       "      <td>22</td>\n",
       "      <td>1</td>\n",
       "      <td>1022</td>\n",
       "      <td>1136</td>\n",
       "      <td>91</td>\n",
       "      <td>41</td>\n",
       "      <td>...</td>\n",
       "      <td>4</td>\n",
       "      <td>0</td>\n",
       "      <td>69</td>\n",
       "      <td>10</td>\n",
       "      <td>79</td>\n",
       "      <td>6</td>\n",
       "      <td>4</td>\n",
       "      <td>5</td>\n",
       "      <td>0</td>\n",
       "      <td>2022</td>\n",
       "    </tr>\n",
       "    <tr>\n",
       "      <th>567</th>\n",
       "      <td>09/18/2021</td>\n",
       "      <td>956</td>\n",
       "      <td>340</td>\n",
       "      <td>86</td>\n",
       "      <td>10</td>\n",
       "      <td>1</td>\n",
       "      <td>1439</td>\n",
       "      <td>1848</td>\n",
       "      <td>89</td>\n",
       "      <td>11</td>\n",
       "      <td>...</td>\n",
       "      <td>0</td>\n",
       "      <td>0</td>\n",
       "      <td>122</td>\n",
       "      <td>33</td>\n",
       "      <td>154</td>\n",
       "      <td>7</td>\n",
       "      <td>1</td>\n",
       "      <td>1</td>\n",
       "      <td>0</td>\n",
       "      <td>2021</td>\n",
       "    </tr>\n",
       "    <tr>\n",
       "      <th>679</th>\n",
       "      <td>01/08/2022</td>\n",
       "      <td>16198</td>\n",
       "      <td>2064</td>\n",
       "      <td>755</td>\n",
       "      <td>97</td>\n",
       "      <td>11</td>\n",
       "      <td>36119</td>\n",
       "      <td>40069</td>\n",
       "      <td>1008</td>\n",
       "      <td>80</td>\n",
       "      <td>...</td>\n",
       "      <td>6</td>\n",
       "      <td>0</td>\n",
       "      <td>2272</td>\n",
       "      <td>201</td>\n",
       "      <td>2473</td>\n",
       "      <td>46</td>\n",
       "      <td>4</td>\n",
       "      <td>4</td>\n",
       "      <td>0</td>\n",
       "      <td>2022</td>\n",
       "    </tr>\n",
       "    <tr>\n",
       "      <th>12</th>\n",
       "      <td>03/12/2020</td>\n",
       "      <td>355</td>\n",
       "      <td>0</td>\n",
       "      <td>105</td>\n",
       "      <td>0</td>\n",
       "      <td>0</td>\n",
       "      <td>96</td>\n",
       "      <td>96</td>\n",
       "      <td>45</td>\n",
       "      <td>0</td>\n",
       "      <td>...</td>\n",
       "      <td>0</td>\n",
       "      <td>0</td>\n",
       "      <td>3</td>\n",
       "      <td>0</td>\n",
       "      <td>3</td>\n",
       "      <td>2</td>\n",
       "      <td>0</td>\n",
       "      <td>0</td>\n",
       "      <td>0</td>\n",
       "      <td>2020</td>\n",
       "    </tr>\n",
       "  </tbody>\n",
       "</table>\n",
       "<p>5 rows × 68 columns</p>\n",
       "</div>"
      ],
      "text/plain": [
       "    date_of_interest  CASE_COUNT  PROBABLE_CASE_COUNT  HOSPITALIZED_COUNT  \\\n",
       "738       03/08/2022         682                   86                  23   \n",
       "716       02/14/2022        1017                  108                  76   \n",
       "567       09/18/2021         956                  340                  86   \n",
       "679       01/08/2022       16198                 2064                 755   \n",
       "12        03/12/2020         355                    0                 105   \n",
       "\n",
       "     DEATH_COUNT  PROBABLE_DEATH_COUNT  CASE_COUNT_7DAY_AVG  \\\n",
       "738            5                     0                  527   \n",
       "716           22                     1                 1022   \n",
       "567           10                     1                 1439   \n",
       "679           97                    11                36119   \n",
       "12             0                     0                   96   \n",
       "\n",
       "     ALL_CASE_COUNT_7DAY_AVG  HOSP_COUNT_7DAY_AVG  DEATH_COUNT_7DAY_AVG  ...  \\\n",
       "738                      606                   30                    10  ...   \n",
       "716                     1136                   91                    41  ...   \n",
       "567                     1848                   89                    11  ...   \n",
       "679                    40069                 1008                    80  ...   \n",
       "12                        96                   45                     0  ...   \n",
       "\n",
       "     SI_DEATH_COUNT  SI_PROBABLE_DEATH_COUNT  SI_CASE_COUNT_7DAY_AVG  \\\n",
       "738               0                        0                      30   \n",
       "716               4                        0                      69   \n",
       "567               0                        0                     122   \n",
       "679               6                        0                    2272   \n",
       "12                0                        0                       3   \n",
       "\n",
       "     SI_PROBABLE_CASE_COUNT_7DAY_AVG  SI_ALL_CASE_COUNT_7DAY_AVG  \\\n",
       "738                                6                          35   \n",
       "716                               10                          79   \n",
       "567                               33                         154   \n",
       "679                              201                        2473   \n",
       "12                                 0                           3   \n",
       "\n",
       "     SI_HOSPITALIZED_COUNT_7DAY_AVG  SI_DEATH_COUNT_7DAY_AVG  \\\n",
       "738                               3                        1   \n",
       "716                               6                        4   \n",
       "567                               7                        1   \n",
       "679                              46                        4   \n",
       "12                                2                        0   \n",
       "\n",
       "     SI_ALL_DEATH_COUNT_7DAY_AVG  INCOMPLETE  YEAR  \n",
       "738                            1           0  2022  \n",
       "716                            5           0  2022  \n",
       "567                            1           0  2021  \n",
       "679                            4           0  2022  \n",
       "12                             0           0  2020  \n",
       "\n",
       "[5 rows x 68 columns]"
      ]
     },
     "execution_count": 17,
     "metadata": {},
     "output_type": "execute_result"
    }
   ],
   "source": [
    "df.sample(5)"
   ]
  },
  {
   "cell_type": "markdown",
   "metadata": {},
   "source": [
    "- Add a column which shows month for each record"
   ]
  },
  {
   "cell_type": "code",
   "execution_count": 18,
   "metadata": {},
   "outputs": [],
   "source": [
    "months = df['date_of_interest'].map(lambda x: str(x)[:2])\n",
    "df['MONTH'] = months"
   ]
  },
  {
   "cell_type": "markdown",
   "metadata": {},
   "source": [
    "- Display the modified dataset"
   ]
  },
  {
   "cell_type": "code",
   "execution_count": 19,
   "metadata": {},
   "outputs": [
    {
     "data": {
      "text/html": [
       "<div>\n",
       "<style scoped>\n",
       "    .dataframe tbody tr th:only-of-type {\n",
       "        vertical-align: middle;\n",
       "    }\n",
       "\n",
       "    .dataframe tbody tr th {\n",
       "        vertical-align: top;\n",
       "    }\n",
       "\n",
       "    .dataframe thead th {\n",
       "        text-align: right;\n",
       "    }\n",
       "</style>\n",
       "<table border=\"1\" class=\"dataframe\">\n",
       "  <thead>\n",
       "    <tr style=\"text-align: right;\">\n",
       "      <th></th>\n",
       "      <th>date_of_interest</th>\n",
       "      <th>CASE_COUNT</th>\n",
       "      <th>PROBABLE_CASE_COUNT</th>\n",
       "      <th>HOSPITALIZED_COUNT</th>\n",
       "      <th>DEATH_COUNT</th>\n",
       "      <th>PROBABLE_DEATH_COUNT</th>\n",
       "      <th>CASE_COUNT_7DAY_AVG</th>\n",
       "      <th>ALL_CASE_COUNT_7DAY_AVG</th>\n",
       "      <th>HOSP_COUNT_7DAY_AVG</th>\n",
       "      <th>DEATH_COUNT_7DAY_AVG</th>\n",
       "      <th>...</th>\n",
       "      <th>SI_PROBABLE_DEATH_COUNT</th>\n",
       "      <th>SI_CASE_COUNT_7DAY_AVG</th>\n",
       "      <th>SI_PROBABLE_CASE_COUNT_7DAY_AVG</th>\n",
       "      <th>SI_ALL_CASE_COUNT_7DAY_AVG</th>\n",
       "      <th>SI_HOSPITALIZED_COUNT_7DAY_AVG</th>\n",
       "      <th>SI_DEATH_COUNT_7DAY_AVG</th>\n",
       "      <th>SI_ALL_DEATH_COUNT_7DAY_AVG</th>\n",
       "      <th>INCOMPLETE</th>\n",
       "      <th>YEAR</th>\n",
       "      <th>MONTH</th>\n",
       "    </tr>\n",
       "  </thead>\n",
       "  <tbody>\n",
       "    <tr>\n",
       "      <th>357</th>\n",
       "      <td>02/20/2021</td>\n",
       "      <td>2495</td>\n",
       "      <td>930</td>\n",
       "      <td>293</td>\n",
       "      <td>69</td>\n",
       "      <td>5</td>\n",
       "      <td>2783</td>\n",
       "      <td>3666</td>\n",
       "      <td>292</td>\n",
       "      <td>72</td>\n",
       "      <td>...</td>\n",
       "      <td>0</td>\n",
       "      <td>178</td>\n",
       "      <td>52</td>\n",
       "      <td>230</td>\n",
       "      <td>12</td>\n",
       "      <td>3</td>\n",
       "      <td>3</td>\n",
       "      <td>0</td>\n",
       "      <td>2021</td>\n",
       "      <td>02</td>\n",
       "    </tr>\n",
       "    <tr>\n",
       "      <th>1093</th>\n",
       "      <td>02/26/2023</td>\n",
       "      <td>350</td>\n",
       "      <td>135</td>\n",
       "      <td>36</td>\n",
       "      <td>5</td>\n",
       "      <td>0</td>\n",
       "      <td>561</td>\n",
       "      <td>728</td>\n",
       "      <td>53</td>\n",
       "      <td>7</td>\n",
       "      <td>...</td>\n",
       "      <td>0</td>\n",
       "      <td>40</td>\n",
       "      <td>17</td>\n",
       "      <td>57</td>\n",
       "      <td>5</td>\n",
       "      <td>1</td>\n",
       "      <td>1</td>\n",
       "      <td>0</td>\n",
       "      <td>2023</td>\n",
       "      <td>02</td>\n",
       "    </tr>\n",
       "    <tr>\n",
       "      <th>202</th>\n",
       "      <td>09/18/2020</td>\n",
       "      <td>292</td>\n",
       "      <td>38</td>\n",
       "      <td>36</td>\n",
       "      <td>3</td>\n",
       "      <td>0</td>\n",
       "      <td>361</td>\n",
       "      <td>395</td>\n",
       "      <td>29</td>\n",
       "      <td>4</td>\n",
       "      <td>...</td>\n",
       "      <td>0</td>\n",
       "      <td>20</td>\n",
       "      <td>1</td>\n",
       "      <td>22</td>\n",
       "      <td>1</td>\n",
       "      <td>0</td>\n",
       "      <td>0</td>\n",
       "      <td>0</td>\n",
       "      <td>2020</td>\n",
       "      <td>09</td>\n",
       "    </tr>\n",
       "    <tr>\n",
       "      <th>812</th>\n",
       "      <td>05/21/2022</td>\n",
       "      <td>2454</td>\n",
       "      <td>593</td>\n",
       "      <td>131</td>\n",
       "      <td>13</td>\n",
       "      <td>1</td>\n",
       "      <td>3544</td>\n",
       "      <td>4373</td>\n",
       "      <td>109</td>\n",
       "      <td>8</td>\n",
       "      <td>...</td>\n",
       "      <td>0</td>\n",
       "      <td>273</td>\n",
       "      <td>52</td>\n",
       "      <td>325</td>\n",
       "      <td>11</td>\n",
       "      <td>0</td>\n",
       "      <td>0</td>\n",
       "      <td>0</td>\n",
       "      <td>2022</td>\n",
       "      <td>05</td>\n",
       "    </tr>\n",
       "    <tr>\n",
       "      <th>1023</th>\n",
       "      <td>12/18/2022</td>\n",
       "      <td>1865</td>\n",
       "      <td>736</td>\n",
       "      <td>177</td>\n",
       "      <td>27</td>\n",
       "      <td>2</td>\n",
       "      <td>2945</td>\n",
       "      <td>3803</td>\n",
       "      <td>205</td>\n",
       "      <td>22</td>\n",
       "      <td>...</td>\n",
       "      <td>0</td>\n",
       "      <td>164</td>\n",
       "      <td>72</td>\n",
       "      <td>236</td>\n",
       "      <td>14</td>\n",
       "      <td>2</td>\n",
       "      <td>2</td>\n",
       "      <td>0</td>\n",
       "      <td>2022</td>\n",
       "      <td>12</td>\n",
       "    </tr>\n",
       "  </tbody>\n",
       "</table>\n",
       "<p>5 rows × 69 columns</p>\n",
       "</div>"
      ],
      "text/plain": [
       "     date_of_interest  CASE_COUNT  PROBABLE_CASE_COUNT  HOSPITALIZED_COUNT  \\\n",
       "357        02/20/2021        2495                  930                 293   \n",
       "1093       02/26/2023         350                  135                  36   \n",
       "202        09/18/2020         292                   38                  36   \n",
       "812        05/21/2022        2454                  593                 131   \n",
       "1023       12/18/2022        1865                  736                 177   \n",
       "\n",
       "      DEATH_COUNT  PROBABLE_DEATH_COUNT  CASE_COUNT_7DAY_AVG  \\\n",
       "357            69                     5                 2783   \n",
       "1093            5                     0                  561   \n",
       "202             3                     0                  361   \n",
       "812            13                     1                 3544   \n",
       "1023           27                     2                 2945   \n",
       "\n",
       "      ALL_CASE_COUNT_7DAY_AVG  HOSP_COUNT_7DAY_AVG  DEATH_COUNT_7DAY_AVG  ...  \\\n",
       "357                      3666                  292                    72  ...   \n",
       "1093                      728                   53                     7  ...   \n",
       "202                       395                   29                     4  ...   \n",
       "812                      4373                  109                     8  ...   \n",
       "1023                     3803                  205                    22  ...   \n",
       "\n",
       "      SI_PROBABLE_DEATH_COUNT  SI_CASE_COUNT_7DAY_AVG  \\\n",
       "357                         0                     178   \n",
       "1093                        0                      40   \n",
       "202                         0                      20   \n",
       "812                         0                     273   \n",
       "1023                        0                     164   \n",
       "\n",
       "      SI_PROBABLE_CASE_COUNT_7DAY_AVG  SI_ALL_CASE_COUNT_7DAY_AVG  \\\n",
       "357                                52                         230   \n",
       "1093                               17                          57   \n",
       "202                                 1                          22   \n",
       "812                                52                         325   \n",
       "1023                               72                         236   \n",
       "\n",
       "      SI_HOSPITALIZED_COUNT_7DAY_AVG  SI_DEATH_COUNT_7DAY_AVG  \\\n",
       "357                               12                        3   \n",
       "1093                               5                        1   \n",
       "202                                1                        0   \n",
       "812                               11                        0   \n",
       "1023                              14                        2   \n",
       "\n",
       "      SI_ALL_DEATH_COUNT_7DAY_AVG  INCOMPLETE  YEAR  MONTH  \n",
       "357                             3           0  2021     02  \n",
       "1093                            1           0  2023     02  \n",
       "202                             0           0  2020     09  \n",
       "812                             0           0  2022     05  \n",
       "1023                            2           0  2022     12  \n",
       "\n",
       "[5 rows x 69 columns]"
      ]
     },
     "execution_count": 19,
     "metadata": {},
     "output_type": "execute_result"
    }
   ],
   "source": [
    "df.sample(5)"
   ]
  },
  {
   "cell_type": "markdown",
   "metadata": {},
   "source": [
    "- We do not need to deal with any existing value within this dataset, since all of them are not null, as I have shown in unique features part."
   ]
  },
  {
   "cell_type": "markdown",
   "metadata": {},
   "source": [
    "## Data analysis\n",
    "Place your **data analysis** code and documentation within this section.\n",
    "- Perform at least 5 different statistical or other analyses of different aspects of the data.\n",
    "    - Your analyses must be specific and relevant to your chosen data set and show interesting aspects of it.\n",
    "    - Include at least one analysis that includes grouping rows by a shared attribute and performing some kind of statistical analysis on each group.\n",
    "    - Sort the data in at least 1 of your analyses, but sort on its own does not constitute an analysis on its own.\n",
    "- Keep each of your Code cells short and focused on a single task.\n",
    "- Include a Markdown cell above each Code cell that describes what task the code within the Code cell is performing.\n",
    "- Make as many code cells as you need to complete the analysis - a few have been created for you to start with."
   ]
  },
  {
   "cell_type": "markdown",
   "metadata": {},
   "source": [
    "- The annual aggregate COVID-19 case count in NYC"
   ]
  },
  {
   "cell_type": "code",
   "execution_count": 26,
   "metadata": {},
   "outputs": [
    {
     "data": {
      "text/plain": [
       "YEAR\n",
       "2020     401563\n",
       "2021    1058348\n",
       "2022    1173779\n",
       "2023      96308\n",
       "Name: CASE_COUNT, dtype: int64"
      ]
     },
     "execution_count": 26,
     "metadata": {},
     "output_type": "execute_result"
    }
   ],
   "source": [
    "df.groupby(\"YEAR\")[\"CASE_COUNT\"].sum()"
   ]
  },
  {
   "cell_type": "markdown",
   "metadata": {},
   "source": [
    "- The annual COVID-19 death rate in NYC"
   ]
  },
  {
   "cell_type": "code",
   "execution_count": 27,
   "metadata": {},
   "outputs": [
    {
     "data": {
      "text/plain": [
       "YEAR\n",
       "2020    0.050612\n",
       "2021    0.009323\n",
       "2022    0.006350\n",
       "2023    0.011661\n",
       "dtype: float64"
      ]
     },
     "execution_count": 27,
     "metadata": {},
     "output_type": "execute_result"
    }
   ],
   "source": [
    "df.groupby(\"YEAR\")['DEATH_COUNT'].sum()/df.groupby(\"YEAR\")[\"CASE_COUNT\"].sum()"
   ]
  },
  {
   "cell_type": "markdown",
   "metadata": {},
   "source": [
    "- The number of days on which COVID-19 cases are over 2000 by year in NYC"
   ]
  },
  {
   "cell_type": "code",
   "execution_count": 31,
   "metadata": {},
   "outputs": [
    {
     "data": {
      "text/plain": [
       "YEAR\n",
       "2020     76\n",
       "2021    125\n",
       "2022    198\n",
       "2023     10\n",
       "Name: YEAR, dtype: int64"
      ]
     },
     "execution_count": 31,
     "metadata": {},
     "output_type": "execute_result"
    }
   ],
   "source": [
    "df[ df['CASE_COUNT'] > 2000 ].groupby(\"YEAR\")['YEAR'].count()"
   ]
  },
  {
   "cell_type": "markdown",
   "metadata": {},
   "source": [
    "- Five months with highest aggregate count of COVID-19 cases in NYC"
   ]
  },
  {
   "cell_type": "code",
   "execution_count": 33,
   "metadata": {},
   "outputs": [
    {
     "data": {
      "text/plain": [
       "MONTH\n",
       "12    688751\n",
       "01    656584\n",
       "04    227612\n",
       "03    194833\n",
       "11    143986\n",
       "Name: CASE_COUNT, dtype: int64"
      ]
     },
     "execution_count": 33,
     "metadata": {},
     "output_type": "execute_result"
    }
   ],
   "source": [
    "df.groupby(\"MONTH\")['CASE_COUNT'].sum().sort_values().tail(5)[::-1]"
   ]
  },
  {
   "cell_type": "markdown",
   "metadata": {},
   "source": [
    "- Aggregate count of COVID-19 cases by borough in ascending order in NYC"
   ]
  },
  {
   "cell_type": "code",
   "execution_count": 36,
   "metadata": {},
   "outputs": [
    {
     "data": {
      "text/plain": [
       "Staten Island    192458\n",
       "Bronx            450250\n",
       "Manhanttan       501100\n",
       "Queens           761359\n",
       "Brooklyn         823890\n",
       "dtype: int64"
      ]
     },
     "execution_count": 36,
     "metadata": {},
     "output_type": "execute_result"
    }
   ],
   "source": [
    "pd.Series([df['BX_CASE_COUNT'].sum(),df['BK_CASE_COUNT'].sum(),df['MN_CASE_COUNT'].sum(),df['QN_CASE_COUNT'].sum(),df['SI_CASE_COUNT'].sum()], index=['Bronx','Brooklyn','Manhanttan','Queens','Staten Island']).sort_values()"
   ]
  },
  {
   "cell_type": "markdown",
   "metadata": {},
   "source": [
    "## Data visualization\n",
    "In this section, you will create a few **visualizations** that show some of the insights you have gathered from this data.\n",
    "- Create at least 5 different visualizations, where each visualization shows different insights into the data.\n",
    "- Use at least 3 different visualization types (e.g. bar charts, line charts, stacked area charts, pie charts, etc)\n",
    "- Create a Markdown cell and a Code cell for each, where you explain and show the visualizations, respectively.\n",
    "- Create as many additional cells as you need to prepare the data for the visualizations."
   ]
  },
  {
   "cell_type": "markdown",
   "metadata": {},
   "source": [
    "- Aggregate count of COVID-19 cases by month in NYC shown in bar chart"
   ]
  },
  {
   "cell_type": "code",
   "execution_count": 46,
   "metadata": {},
   "outputs": [
    {
     "data": {
      "text/plain": [
       "<AxesSubplot:xlabel='MONTH', ylabel='Count of Cases'>"
      ]
     },
     "execution_count": 46,
     "metadata": {},
     "output_type": "execute_result"
    },
    {
     "data": {
      "image/png": "[encoded data removed]",
      "text/plain": [
       "<Figure size 640x480 with 1 Axes>"
      ]
     },
     "metadata": {},
     "output_type": "display_data"
    }
   ],
   "source": [
    "df.groupby(\"MONTH\")[\"CASE_COUNT\"].sum().plot.bar(ylabel='Count of Cases')"
   ]
  },
  {
   "cell_type": "markdown",
   "metadata": {},
   "source": [
    "- Aggregate count of COVID-19 cases by borough in each month in NYC shown in area chart"
   ]
  },
  {
   "cell_type": "code",
   "execution_count": 77,
   "metadata": {},
   "outputs": [
    {
     "data": {
      "text/plain": [
       "<AxesSubplot:xlabel='MONTH', ylabel='Count of Cases'>"
      ]
     },
     "execution_count": 77,
     "metadata": {},
     "output_type": "execute_result"
    },
    {
     "data": {
      "image/png": "[encoded data removed]",
      "text/plain": [
       "<Figure size 640x480 with 1 Axes>"
      ]
     },
     "metadata": {},
     "output_type": "display_data"
    }
   ],
   "source": [
    "df_to_plot1=df[ ['MONTH','BX_CASE_COUNT','BK_CASE_COUNT','MN_CASE_COUNT','QN_CASE_COUNT','SI_CASE_COUNT'] ].groupby('MONTH').sum()\n",
    "df_to_plot1.plot.area(ylabel='Count of Cases',stacked=False)"
   ]
  },
  {
   "cell_type": "markdown",
   "metadata": {},
   "source": [
    "- Count of COVID-19 cases by month in 2022 in NYC shown by pie chart"
   ]
  },
  {
   "cell_type": "code",
   "execution_count": 104,
   "metadata": {},
   "outputs": [
    {
     "data": {
      "text/plain": [
       "<AxesSubplot:ylabel='Count of Cases'>"
      ]
     },
     "execution_count": 104,
     "metadata": {},
     "output_type": "execute_result"
    },
    {
     "data": {
      "image/png": "[encoded data removed]",
      "text/plain": [
       "<Figure size 640x480 with 1 Axes>"
      ]
     },
     "metadata": {},
     "output_type": "display_data"
    }
   ],
   "source": [
    "df_2022=df[ df['YEAR']=='2022']\n",
    "df_2022_to_plot=df_2022[ ['MONTH', 'CASE_COUNT'] ].groupby('MONTH').sum()\n",
    "df_2022_to_plot.plot.pie(y='CASE_COUNT',ylabel='Count of Cases', legend=False)"
   ]
  },
  {
   "cell_type": "markdown",
   "metadata": {},
   "source": [
    "- Number of days on which count of death is over 20 in each year in NYC"
   ]
  },
  {
   "cell_type": "code",
   "execution_count": 102,
   "metadata": {},
   "outputs": [
    {
     "data": {
      "text/plain": [
       "<AxesSubplot:xlabel='YEAR', ylabel='Count of Death'>"
      ]
     },
     "execution_count": 102,
     "metadata": {},
     "output_type": "execute_result"
    },
    {
     "data": {
      "image/png": "[encoded data removed]",
      "text/plain": [
       "<Figure size 640x480 with 1 Axes>"
      ]
     },
     "metadata": {},
     "output_type": "display_data"
    }
   ],
   "source": [
    "df[ df['DEATH_COUNT'] > 20 ].groupby(\"YEAR\")['YEAR'].count().plot.bar(ylabel='Count of Death')"
   ]
  },
  {
   "cell_type": "markdown",
   "metadata": {},
   "source": [
    "- Hospitalized rate and death rate by month in NYC."
   ]
  },
  {
   "cell_type": "code",
   "execution_count": 111,
   "metadata": {},
   "outputs": [
    {
     "data": {
      "text/plain": [
       "<AxesSubplot:xlabel='MONTH'>"
      ]
     },
     "execution_count": 111,
     "metadata": {},
     "output_type": "execute_result"
    },
    {
     "data": {
      "image/png": "[encoded data removed]",
      "text/plain": [
       "<Figure size 640x480 with 1 Axes>"
      ]
     },
     "metadata": {},
     "output_type": "display_data"
    }
   ],
   "source": [
    "df_hos=df.groupby(\"MONTH\")['HOSPITALIZED_COUNT'].sum()/df.groupby(\"MONTH\")[\"CASE_COUNT\"].sum()\n",
    "df_dea=df.groupby(\"MONTH\")['DEATH_COUNT'].sum()/df.groupby(\"MONTH\")[\"CASE_COUNT\"].sum()\n",
    "df_to_plot2=pd.DataFrame({'Hospitalized Rate':df_hos,'Death Rate':df_dea})\n",
    "df_to_plot2.plot.bar()"
   ]
  }
 ],
 "metadata": {
  "kernelspec": {
   "display_name": "Python 3 (ipykernel)",
   "language": "python",
   "name": "python3"
  },
  "language_info": {
   "codemirror_mode": {
    "name": "ipython",
    "version": 3
   },
   "file_extension": ".py",
   "mimetype": "text/x-python",
   "name": "python",
   "nbconvert_exporter": "python",
   "pygments_lexer": "ipython3",
   "version": "3.9.13"
  }
 },
 "nbformat": 4,
 "nbformat_minor": 4
}
