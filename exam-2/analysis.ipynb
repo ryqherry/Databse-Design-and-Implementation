{
 "cells": [
  {
   "cell_type": "markdown",
   "metadata": {
    "id": "LMZR4juQaNFy"
   },
   "source": [
    "# Exam 2\n",
    "\n",
    "## 1. Introduction\n",
    "The companion Google Form for this exam includes a set of questions that you can only answer by writing code. That code must be entered into this notebook.\n",
    "\n",
    "Some requirements: \n",
    "1. This notebook must clearly **show all the work necessary to answer each question** in the Google Form.\n",
    "1. **Your code must unambiguously show that you have answered each question**.  For questions where you are unable to determine the answer using code, include descriptive text explaining what you believe to be the answer, and any reason you are unable to show it in the code.\n",
    "1. All code in this notebook must be **well-documented using Markdown**.  Indicate each question you are answering and clearly describe what each block of code is doing.  Your ability to write well-formatted Markdown that clearly explains your work will be factored into your grade.\n",
    "1. Once you have determined the answer to each question, remember to **enter the answer for each question into the Google Form** - we need both this notebook and the completed Google Form in order to grade your work.\n",
    "1. Save this notebook and **push this repository to GitHub when done**.\n",
    "1. If the data contains any factual inaccuracies, please ignore them. Consider all the questions in relation to the dataset.\n"
   ]
  },
  {
   "cell_type": "code",
   "execution_count": 4,
   "metadata": {
    "id": "brZLeG_OaNF3"
   },
   "outputs": [],
   "source": [
    "# given code... do not modify\n",
    "%matplotlib inline\n",
    "import numpy as np\n",
    "import pandas as pd\n",
    "import matplotlib.pyplot as plt\n",
    "from IPython.display import Markdown as md\n",
    "\n",
    "df = pd.read_csv('data/athlete_events.csv')"
   ]
  },
  {
   "cell_type": "markdown",
   "metadata": {
    "id": "HMdj80gTaNF5"
   },
   "source": [
    "## 2. Data source and definitions\n",
    "The data used in this notebook comes from the [120 years of Olympic history: athletes and results](https://www.kaggle.com/datasets/heesoo37/120-years-of-olympic-history-athletes-and-results?resource=download) and represents historical dataset on the modern Olympic Games, including all the Games from Athens 1896 to Rio 2016. \n",
    "\n",
    "In general, each row indicate the details of participation of an athelete in a particluar Olympic event. A few important points regarding the fields in this data: \n",
    "- It is extremely significant to note that this dataset represents an athlete's perspective. If a country wins a medal in a team sport, its medal count will be equal to the number of team members, rather than just one.\n",
    "- `ID` represents a unique id of an athlete. Since a particular athlete may participate multiple times (in different events), there may be multiple rows with the same `ID` indicating the same athelete participated in multiple events.\n",
    "- `Medal` represents the medal won by an athlete. Please note it can be null if no medal was won by an athlete at an event. The null rows should not be considered in any questions related to medals won.\n",
    "- `Team` indicates the country an athlete represents in an event. Please use this field for any country-related questions."
   ]
  },
  {
   "cell_type": "markdown",
   "metadata": {
    "id": "a40-gGBgaNF6"
   },
   "source": [
    "## 3. Data sample"
   ]
  },
  {
   "cell_type": "code",
   "execution_count": 5,
   "metadata": {
    "colab": {
     "base_uri": "https://localhost:8080/",
     "height": 599
    },
    "id": "ccvxvcrMaNF6",
    "outputId": "17713606-10c1-4eca-aee9-532dafe4348b"
   },
   "outputs": [
    {
     "data": {
      "text/html": [
       "<div>\n",
       "<style scoped>\n",
       "    .dataframe tbody tr th:only-of-type {\n",
       "        vertical-align: middle;\n",
       "    }\n",
       "\n",
       "    .dataframe tbody tr th {\n",
       "        vertical-align: top;\n",
       "    }\n",
       "\n",
       "    .dataframe thead th {\n",
       "        text-align: right;\n",
       "    }\n",
       "</style>\n",
       "<table border=\"1\" class=\"dataframe\">\n",
       "  <thead>\n",
       "    <tr style=\"text-align: right;\">\n",
       "      <th></th>\n",
       "      <th>ID</th>\n",
       "      <th>Name</th>\n",
       "      <th>Sex</th>\n",
       "      <th>Age</th>\n",
       "      <th>Height</th>\n",
       "      <th>Weight</th>\n",
       "      <th>Team</th>\n",
       "      <th>NOC</th>\n",
       "      <th>Games</th>\n",
       "      <th>Year</th>\n",
       "      <th>Season</th>\n",
       "      <th>City</th>\n",
       "      <th>Sport</th>\n",
       "      <th>Event</th>\n",
       "      <th>Medal</th>\n",
       "    </tr>\n",
       "  </thead>\n",
       "  <tbody>\n",
       "    <tr>\n",
       "      <th>0</th>\n",
       "      <td>1</td>\n",
       "      <td>A Dijiang</td>\n",
       "      <td>M</td>\n",
       "      <td>24.0</td>\n",
       "      <td>180.0</td>\n",
       "      <td>80.0</td>\n",
       "      <td>China</td>\n",
       "      <td>CHN</td>\n",
       "      <td>1992 Summer</td>\n",
       "      <td>1992</td>\n",
       "      <td>Summer</td>\n",
       "      <td>Barcelona</td>\n",
       "      <td>Basketball</td>\n",
       "      <td>Basketball Men's Basketball</td>\n",
       "      <td>NaN</td>\n",
       "    </tr>\n",
       "    <tr>\n",
       "      <th>1</th>\n",
       "      <td>2</td>\n",
       "      <td>A Lamusi</td>\n",
       "      <td>M</td>\n",
       "      <td>23.0</td>\n",
       "      <td>170.0</td>\n",
       "      <td>60.0</td>\n",
       "      <td>China</td>\n",
       "      <td>CHN</td>\n",
       "      <td>2012 Summer</td>\n",
       "      <td>2012</td>\n",
       "      <td>Summer</td>\n",
       "      <td>London</td>\n",
       "      <td>Judo</td>\n",
       "      <td>Judo Men's Extra-Lightweight</td>\n",
       "      <td>NaN</td>\n",
       "    </tr>\n",
       "    <tr>\n",
       "      <th>2</th>\n",
       "      <td>3</td>\n",
       "      <td>Gunnar Nielsen Aaby</td>\n",
       "      <td>M</td>\n",
       "      <td>24.0</td>\n",
       "      <td>NaN</td>\n",
       "      <td>NaN</td>\n",
       "      <td>Denmark</td>\n",
       "      <td>DEN</td>\n",
       "      <td>1920 Summer</td>\n",
       "      <td>1920</td>\n",
       "      <td>Summer</td>\n",
       "      <td>Antwerpen</td>\n",
       "      <td>Football</td>\n",
       "      <td>Football Men's Football</td>\n",
       "      <td>NaN</td>\n",
       "    </tr>\n",
       "    <tr>\n",
       "      <th>3</th>\n",
       "      <td>4</td>\n",
       "      <td>Edgar Lindenau Aabye</td>\n",
       "      <td>M</td>\n",
       "      <td>34.0</td>\n",
       "      <td>NaN</td>\n",
       "      <td>NaN</td>\n",
       "      <td>Denmark/Sweden</td>\n",
       "      <td>DEN</td>\n",
       "      <td>1900 Summer</td>\n",
       "      <td>1900</td>\n",
       "      <td>Summer</td>\n",
       "      <td>Paris</td>\n",
       "      <td>Tug-Of-War</td>\n",
       "      <td>Tug-Of-War Men's Tug-Of-War</td>\n",
       "      <td>Gold</td>\n",
       "    </tr>\n",
       "    <tr>\n",
       "      <th>4</th>\n",
       "      <td>5</td>\n",
       "      <td>Christine Jacoba Aaftink</td>\n",
       "      <td>F</td>\n",
       "      <td>21.0</td>\n",
       "      <td>185.0</td>\n",
       "      <td>82.0</td>\n",
       "      <td>Netherlands</td>\n",
       "      <td>NED</td>\n",
       "      <td>1988 Winter</td>\n",
       "      <td>1988</td>\n",
       "      <td>Winter</td>\n",
       "      <td>Calgary</td>\n",
       "      <td>Speed Skating</td>\n",
       "      <td>Speed Skating Women's 500 metres</td>\n",
       "      <td>NaN</td>\n",
       "    </tr>\n",
       "    <tr>\n",
       "      <th>5</th>\n",
       "      <td>5</td>\n",
       "      <td>Christine Jacoba Aaftink</td>\n",
       "      <td>F</td>\n",
       "      <td>21.0</td>\n",
       "      <td>185.0</td>\n",
       "      <td>82.0</td>\n",
       "      <td>Netherlands</td>\n",
       "      <td>NED</td>\n",
       "      <td>1988 Winter</td>\n",
       "      <td>1988</td>\n",
       "      <td>Winter</td>\n",
       "      <td>Calgary</td>\n",
       "      <td>Speed Skating</td>\n",
       "      <td>Speed Skating Women's 1,000 metres</td>\n",
       "      <td>NaN</td>\n",
       "    </tr>\n",
       "    <tr>\n",
       "      <th>6</th>\n",
       "      <td>5</td>\n",
       "      <td>Christine Jacoba Aaftink</td>\n",
       "      <td>F</td>\n",
       "      <td>25.0</td>\n",
       "      <td>185.0</td>\n",
       "      <td>82.0</td>\n",
       "      <td>Netherlands</td>\n",
       "      <td>NED</td>\n",
       "      <td>1992 Winter</td>\n",
       "      <td>1992</td>\n",
       "      <td>Winter</td>\n",
       "      <td>Albertville</td>\n",
       "      <td>Speed Skating</td>\n",
       "      <td>Speed Skating Women's 500 metres</td>\n",
       "      <td>NaN</td>\n",
       "    </tr>\n",
       "    <tr>\n",
       "      <th>7</th>\n",
       "      <td>5</td>\n",
       "      <td>Christine Jacoba Aaftink</td>\n",
       "      <td>F</td>\n",
       "      <td>25.0</td>\n",
       "      <td>185.0</td>\n",
       "      <td>82.0</td>\n",
       "      <td>Netherlands</td>\n",
       "      <td>NED</td>\n",
       "      <td>1992 Winter</td>\n",
       "      <td>1992</td>\n",
       "      <td>Winter</td>\n",
       "      <td>Albertville</td>\n",
       "      <td>Speed Skating</td>\n",
       "      <td>Speed Skating Women's 1,000 metres</td>\n",
       "      <td>NaN</td>\n",
       "    </tr>\n",
       "    <tr>\n",
       "      <th>8</th>\n",
       "      <td>5</td>\n",
       "      <td>Christine Jacoba Aaftink</td>\n",
       "      <td>F</td>\n",
       "      <td>27.0</td>\n",
       "      <td>185.0</td>\n",
       "      <td>82.0</td>\n",
       "      <td>Netherlands</td>\n",
       "      <td>NED</td>\n",
       "      <td>1994 Winter</td>\n",
       "      <td>1994</td>\n",
       "      <td>Winter</td>\n",
       "      <td>Lillehammer</td>\n",
       "      <td>Speed Skating</td>\n",
       "      <td>Speed Skating Women's 500 metres</td>\n",
       "      <td>NaN</td>\n",
       "    </tr>\n",
       "    <tr>\n",
       "      <th>9</th>\n",
       "      <td>5</td>\n",
       "      <td>Christine Jacoba Aaftink</td>\n",
       "      <td>F</td>\n",
       "      <td>27.0</td>\n",
       "      <td>185.0</td>\n",
       "      <td>82.0</td>\n",
       "      <td>Netherlands</td>\n",
       "      <td>NED</td>\n",
       "      <td>1994 Winter</td>\n",
       "      <td>1994</td>\n",
       "      <td>Winter</td>\n",
       "      <td>Lillehammer</td>\n",
       "      <td>Speed Skating</td>\n",
       "      <td>Speed Skating Women's 1,000 metres</td>\n",
       "      <td>NaN</td>\n",
       "    </tr>\n",
       "  </tbody>\n",
       "</table>\n",
       "</div>"
      ],
      "text/plain": [
       "   ID                      Name Sex   Age  Height  Weight            Team  \\\n",
       "0   1                 A Dijiang   M  24.0   180.0    80.0           China   \n",
       "1   2                  A Lamusi   M  23.0   170.0    60.0           China   \n",
       "2   3       Gunnar Nielsen Aaby   M  24.0     NaN     NaN         Denmark   \n",
       "3   4      Edgar Lindenau Aabye   M  34.0     NaN     NaN  Denmark/Sweden   \n",
       "4   5  Christine Jacoba Aaftink   F  21.0   185.0    82.0     Netherlands   \n",
       "5   5  Christine Jacoba Aaftink   F  21.0   185.0    82.0     Netherlands   \n",
       "6   5  Christine Jacoba Aaftink   F  25.0   185.0    82.0     Netherlands   \n",
       "7   5  Christine Jacoba Aaftink   F  25.0   185.0    82.0     Netherlands   \n",
       "8   5  Christine Jacoba Aaftink   F  27.0   185.0    82.0     Netherlands   \n",
       "9   5  Christine Jacoba Aaftink   F  27.0   185.0    82.0     Netherlands   \n",
       "\n",
       "   NOC        Games  Year  Season         City          Sport  \\\n",
       "0  CHN  1992 Summer  1992  Summer    Barcelona     Basketball   \n",
       "1  CHN  2012 Summer  2012  Summer       London           Judo   \n",
       "2  DEN  1920 Summer  1920  Summer    Antwerpen       Football   \n",
       "3  DEN  1900 Summer  1900  Summer        Paris     Tug-Of-War   \n",
       "4  NED  1988 Winter  1988  Winter      Calgary  Speed Skating   \n",
       "5  NED  1988 Winter  1988  Winter      Calgary  Speed Skating   \n",
       "6  NED  1992 Winter  1992  Winter  Albertville  Speed Skating   \n",
       "7  NED  1992 Winter  1992  Winter  Albertville  Speed Skating   \n",
       "8  NED  1994 Winter  1994  Winter  Lillehammer  Speed Skating   \n",
       "9  NED  1994 Winter  1994  Winter  Lillehammer  Speed Skating   \n",
       "\n",
       "                                Event Medal  \n",
       "0         Basketball Men's Basketball   NaN  \n",
       "1        Judo Men's Extra-Lightweight   NaN  \n",
       "2             Football Men's Football   NaN  \n",
       "3         Tug-Of-War Men's Tug-Of-War  Gold  \n",
       "4    Speed Skating Women's 500 metres   NaN  \n",
       "5  Speed Skating Women's 1,000 metres   NaN  \n",
       "6    Speed Skating Women's 500 metres   NaN  \n",
       "7  Speed Skating Women's 1,000 metres   NaN  \n",
       "8    Speed Skating Women's 500 metres   NaN  \n",
       "9  Speed Skating Women's 1,000 metres   NaN  "
      ]
     },
     "execution_count": 5,
     "metadata": {},
     "output_type": "execute_result"
    }
   ],
   "source": [
    "# given code... do not modify\n",
    "# do not remove duplicates df = df.drop_duplicates()\n",
    "df.head(10)"
   ]
  },
  {
   "cell_type": "markdown",
   "metadata": {
    "id": "9NDvDhG2aNF8"
   },
   "source": [
    "# Your Work\n",
    "Add all the code and documentation you need to answer the exam questions below this block.  Keep your notebook organized so it is obvious which question you are answering (no need to repeat the entire question) and the order of answers follows the order of the questions in the exam.\n"
   ]
  },
  {
   "cell_type": "markdown",
   "metadata": {
    "id": "_bAah8XGaNF8"
   },
   "source": [
    "Q1. How many rows are there in the original DataFrame ?"
   ]
  },
  {
   "cell_type": "code",
   "execution_count": 7,
   "metadata": {
    "id": "bs5vvxg2aNF9"
   },
   "outputs": [
    {
     "data": {
      "text/plain": [
       "271116"
      ]
     },
     "execution_count": 7,
     "metadata": {},
     "output_type": "execute_result"
    }
   ],
   "source": [
    "df.shape[0]"
   ]
  },
  {
   "cell_type": "markdown",
   "metadata": {},
   "source": [
    "Description: shows the number of rows in this dataframe."
   ]
  },
  {
   "cell_type": "markdown",
   "metadata": {
    "id": "9oHqKxv2aNF9"
   },
   "source": [
    "Q2. How many unique events have been held in Summer and Winter olympics over all the years? "
   ]
  },
  {
   "cell_type": "code",
   "execution_count": 8,
   "metadata": {
    "id": "LNicSW2waNF9"
   },
   "outputs": [
    {
     "data": {
      "text/plain": [
       "765"
      ]
     },
     "execution_count": 8,
     "metadata": {},
     "output_type": "execute_result"
    }
   ],
   "source": [
    "len(pd.unique(df['Event']))"
   ]
  },
  {
   "cell_type": "markdown",
   "metadata": {},
   "source": [
    "Description: shows the number of unique events in the column of \"Event\" within this dataframe."
   ]
  },
  {
   "cell_type": "markdown",
   "metadata": {
    "id": "m_f5B859aNF-"
   },
   "source": [
    "Q3. Which command would create a pandas DataFrame that contains the data for medal winners?"
   ]
  },
  {
   "cell_type": "code",
   "execution_count": 18,
   "metadata": {
    "id": "ur_UHSXaaNF-"
   },
   "outputs": [],
   "source": [
    "df_medals = df[df['Medal'].notnull()]"
   ]
  },
  {
   "cell_type": "markdown",
   "metadata": {},
   "source": [
    "Description: filter the rows which have not null values in their 'Medal' column"
   ]
  },
  {
   "cell_type": "markdown",
   "metadata": {
    "id": "ctH_Hb6LaNF-"
   },
   "source": [
    "Q3.1 Assuming the variable « df_medals » refers to a DataFrame containing only those rows from the original data set relate to medals winner, with no other modifications, which of the following commands would create a data structure including each Olympics games and the minimum and maximum age of olympic medal winner?"
   ]
  },
  {
   "cell_type": "code",
   "execution_count": 19,
   "metadata": {
    "id": "2cvbUAeBaNF_"
   },
   "outputs": [
    {
     "data": {
      "text/html": [
       "<div>\n",
       "<style scoped>\n",
       "    .dataframe tbody tr th:only-of-type {\n",
       "        vertical-align: middle;\n",
       "    }\n",
       "\n",
       "    .dataframe tbody tr th {\n",
       "        vertical-align: top;\n",
       "    }\n",
       "\n",
       "    .dataframe thead th {\n",
       "        text-align: right;\n",
       "    }\n",
       "</style>\n",
       "<table border=\"1\" class=\"dataframe\">\n",
       "  <thead>\n",
       "    <tr style=\"text-align: right;\">\n",
       "      <th></th>\n",
       "      <th>count</th>\n",
       "      <th>mean</th>\n",
       "      <th>std</th>\n",
       "      <th>min</th>\n",
       "      <th>25%</th>\n",
       "      <th>50%</th>\n",
       "      <th>75%</th>\n",
       "      <th>max</th>\n",
       "    </tr>\n",
       "    <tr>\n",
       "      <th>Games</th>\n",
       "      <th></th>\n",
       "      <th></th>\n",
       "      <th></th>\n",
       "      <th></th>\n",
       "      <th></th>\n",
       "      <th></th>\n",
       "      <th></th>\n",
       "      <th></th>\n",
       "    </tr>\n",
       "  </thead>\n",
       "  <tbody>\n",
       "    <tr>\n",
       "      <th>1896 Summer</th>\n",
       "      <td>101.0</td>\n",
       "      <td>23.217822</td>\n",
       "      <td>4.283933</td>\n",
       "      <td>10.0</td>\n",
       "      <td>20.0</td>\n",
       "      <td>23.0</td>\n",
       "      <td>26.00</td>\n",
       "      <td>36.0</td>\n",
       "    </tr>\n",
       "    <tr>\n",
       "      <th>1900 Summer</th>\n",
       "      <td>468.0</td>\n",
       "      <td>28.433761</td>\n",
       "      <td>8.999280</td>\n",
       "      <td>15.0</td>\n",
       "      <td>22.0</td>\n",
       "      <td>26.0</td>\n",
       "      <td>33.00</td>\n",
       "      <td>71.0</td>\n",
       "    </tr>\n",
       "    <tr>\n",
       "      <th>1904 Summer</th>\n",
       "      <td>422.0</td>\n",
       "      <td>26.485782</td>\n",
       "      <td>9.374172</td>\n",
       "      <td>14.0</td>\n",
       "      <td>21.0</td>\n",
       "      <td>24.0</td>\n",
       "      <td>28.75</td>\n",
       "      <td>68.0</td>\n",
       "    </tr>\n",
       "    <tr>\n",
       "      <th>1906 Summer</th>\n",
       "      <td>307.0</td>\n",
       "      <td>26.931596</td>\n",
       "      <td>7.936341</td>\n",
       "      <td>14.0</td>\n",
       "      <td>22.0</td>\n",
       "      <td>25.0</td>\n",
       "      <td>29.00</td>\n",
       "      <td>54.0</td>\n",
       "    </tr>\n",
       "    <tr>\n",
       "      <th>1908 Summer</th>\n",
       "      <td>765.0</td>\n",
       "      <td>27.739869</td>\n",
       "      <td>7.871617</td>\n",
       "      <td>16.0</td>\n",
       "      <td>22.0</td>\n",
       "      <td>26.0</td>\n",
       "      <td>31.00</td>\n",
       "      <td>60.0</td>\n",
       "    </tr>\n",
       "    <tr>\n",
       "      <th>1912 Summer</th>\n",
       "      <td>934.0</td>\n",
       "      <td>27.506424</td>\n",
       "      <td>7.738869</td>\n",
       "      <td>15.0</td>\n",
       "      <td>22.0</td>\n",
       "      <td>26.0</td>\n",
       "      <td>31.00</td>\n",
       "      <td>64.0</td>\n",
       "    </tr>\n",
       "    <tr>\n",
       "      <th>1920 Summer</th>\n",
       "      <td>1178.0</td>\n",
       "      <td>29.669779</td>\n",
       "      <td>8.311509</td>\n",
       "      <td>13.0</td>\n",
       "      <td>24.0</td>\n",
       "      <td>28.0</td>\n",
       "      <td>35.00</td>\n",
       "      <td>72.0</td>\n",
       "    </tr>\n",
       "    <tr>\n",
       "      <th>1924 Summer</th>\n",
       "      <td>781.0</td>\n",
       "      <td>27.793854</td>\n",
       "      <td>7.649351</td>\n",
       "      <td>14.0</td>\n",
       "      <td>22.0</td>\n",
       "      <td>26.0</td>\n",
       "      <td>32.00</td>\n",
       "      <td>56.0</td>\n",
       "    </tr>\n",
       "    <tr>\n",
       "      <th>1924 Winter</th>\n",
       "      <td>120.0</td>\n",
       "      <td>30.533333</td>\n",
       "      <td>8.703263</td>\n",
       "      <td>18.0</td>\n",
       "      <td>25.0</td>\n",
       "      <td>28.0</td>\n",
       "      <td>33.25</td>\n",
       "      <td>58.0</td>\n",
       "    </tr>\n",
       "    <tr>\n",
       "      <th>1928 Summer</th>\n",
       "      <td>712.0</td>\n",
       "      <td>26.404494</td>\n",
       "      <td>8.079902</td>\n",
       "      <td>11.0</td>\n",
       "      <td>21.0</td>\n",
       "      <td>24.0</td>\n",
       "      <td>29.00</td>\n",
       "      <td>63.0</td>\n",
       "    </tr>\n",
       "    <tr>\n",
       "      <th>1928 Winter</th>\n",
       "      <td>88.0</td>\n",
       "      <td>25.454545</td>\n",
       "      <td>5.741379</td>\n",
       "      <td>15.0</td>\n",
       "      <td>22.0</td>\n",
       "      <td>25.0</td>\n",
       "      <td>28.25</td>\n",
       "      <td>44.0</td>\n",
       "    </tr>\n",
       "    <tr>\n",
       "      <th>1932 Summer</th>\n",
       "      <td>635.0</td>\n",
       "      <td>26.296063</td>\n",
       "      <td>7.538371</td>\n",
       "      <td>14.0</td>\n",
       "      <td>21.0</td>\n",
       "      <td>24.0</td>\n",
       "      <td>29.00</td>\n",
       "      <td>68.0</td>\n",
       "    </tr>\n",
       "    <tr>\n",
       "      <th>1932 Winter</th>\n",
       "      <td>92.0</td>\n",
       "      <td>26.423913</td>\n",
       "      <td>6.056934</td>\n",
       "      <td>19.0</td>\n",
       "      <td>22.0</td>\n",
       "      <td>25.0</td>\n",
       "      <td>29.00</td>\n",
       "      <td>49.0</td>\n",
       "    </tr>\n",
       "    <tr>\n",
       "      <th>1936 Summer</th>\n",
       "      <td>916.0</td>\n",
       "      <td>26.056769</td>\n",
       "      <td>6.491781</td>\n",
       "      <td>12.0</td>\n",
       "      <td>22.0</td>\n",
       "      <td>25.0</td>\n",
       "      <td>29.00</td>\n",
       "      <td>72.0</td>\n",
       "    </tr>\n",
       "    <tr>\n",
       "      <th>1936 Winter</th>\n",
       "      <td>108.0</td>\n",
       "      <td>25.388889</td>\n",
       "      <td>4.577134</td>\n",
       "      <td>15.0</td>\n",
       "      <td>23.0</td>\n",
       "      <td>25.0</td>\n",
       "      <td>28.00</td>\n",
       "      <td>38.0</td>\n",
       "    </tr>\n",
       "    <tr>\n",
       "      <th>1948 Summer</th>\n",
       "      <td>836.0</td>\n",
       "      <td>28.311005</td>\n",
       "      <td>7.729804</td>\n",
       "      <td>16.0</td>\n",
       "      <td>23.0</td>\n",
       "      <td>27.0</td>\n",
       "      <td>32.00</td>\n",
       "      <td>73.0</td>\n",
       "    </tr>\n",
       "    <tr>\n",
       "      <th>1948 Winter</th>\n",
       "      <td>135.0</td>\n",
       "      <td>26.985185</td>\n",
       "      <td>5.326623</td>\n",
       "      <td>17.0</td>\n",
       "      <td>23.5</td>\n",
       "      <td>27.0</td>\n",
       "      <td>29.00</td>\n",
       "      <td>49.0</td>\n",
       "    </tr>\n",
       "    <tr>\n",
       "      <th>1952 Summer</th>\n",
       "      <td>896.0</td>\n",
       "      <td>26.828125</td>\n",
       "      <td>6.806629</td>\n",
       "      <td>14.0</td>\n",
       "      <td>22.0</td>\n",
       "      <td>25.0</td>\n",
       "      <td>30.00</td>\n",
       "      <td>59.0</td>\n",
       "    </tr>\n",
       "    <tr>\n",
       "      <th>1952 Winter</th>\n",
       "      <td>136.0</td>\n",
       "      <td>26.463235</td>\n",
       "      <td>5.110495</td>\n",
       "      <td>16.0</td>\n",
       "      <td>23.0</td>\n",
       "      <td>25.0</td>\n",
       "      <td>29.00</td>\n",
       "      <td>46.0</td>\n",
       "    </tr>\n",
       "    <tr>\n",
       "      <th>1956 Summer</th>\n",
       "      <td>880.0</td>\n",
       "      <td>25.703409</td>\n",
       "      <td>5.973738</td>\n",
       "      <td>14.0</td>\n",
       "      <td>22.0</td>\n",
       "      <td>25.0</td>\n",
       "      <td>28.00</td>\n",
       "      <td>54.0</td>\n",
       "    </tr>\n",
       "    <tr>\n",
       "      <th>1956 Winter</th>\n",
       "      <td>150.0</td>\n",
       "      <td>25.860000</td>\n",
       "      <td>4.571622</td>\n",
       "      <td>15.0</td>\n",
       "      <td>23.0</td>\n",
       "      <td>25.0</td>\n",
       "      <td>28.00</td>\n",
       "      <td>46.0</td>\n",
       "    </tr>\n",
       "    <tr>\n",
       "      <th>1960 Summer</th>\n",
       "      <td>908.0</td>\n",
       "      <td>25.025330</td>\n",
       "      <td>5.947994</td>\n",
       "      <td>13.0</td>\n",
       "      <td>21.0</td>\n",
       "      <td>24.0</td>\n",
       "      <td>28.00</td>\n",
       "      <td>55.0</td>\n",
       "    </tr>\n",
       "    <tr>\n",
       "      <th>1960 Winter</th>\n",
       "      <td>147.0</td>\n",
       "      <td>25.387755</td>\n",
       "      <td>4.236904</td>\n",
       "      <td>16.0</td>\n",
       "      <td>22.0</td>\n",
       "      <td>26.0</td>\n",
       "      <td>28.00</td>\n",
       "      <td>37.0</td>\n",
       "    </tr>\n",
       "    <tr>\n",
       "      <th>1964 Summer</th>\n",
       "      <td>1027.0</td>\n",
       "      <td>25.190847</td>\n",
       "      <td>5.307741</td>\n",
       "      <td>14.0</td>\n",
       "      <td>22.0</td>\n",
       "      <td>25.0</td>\n",
       "      <td>27.00</td>\n",
       "      <td>60.0</td>\n",
       "    </tr>\n",
       "    <tr>\n",
       "      <th>1964 Winter</th>\n",
       "      <td>186.0</td>\n",
       "      <td>25.532258</td>\n",
       "      <td>4.321102</td>\n",
       "      <td>14.0</td>\n",
       "      <td>23.0</td>\n",
       "      <td>25.0</td>\n",
       "      <td>28.00</td>\n",
       "      <td>36.0</td>\n",
       "    </tr>\n",
       "    <tr>\n",
       "      <th>1968 Summer</th>\n",
       "      <td>1055.0</td>\n",
       "      <td>24.846445</td>\n",
       "      <td>5.717672</td>\n",
       "      <td>14.0</td>\n",
       "      <td>21.0</td>\n",
       "      <td>24.0</td>\n",
       "      <td>28.00</td>\n",
       "      <td>66.0</td>\n",
       "    </tr>\n",
       "    <tr>\n",
       "      <th>1968 Winter</th>\n",
       "      <td>199.0</td>\n",
       "      <td>25.638191</td>\n",
       "      <td>4.293494</td>\n",
       "      <td>16.0</td>\n",
       "      <td>23.0</td>\n",
       "      <td>25.0</td>\n",
       "      <td>28.00</td>\n",
       "      <td>40.0</td>\n",
       "    </tr>\n",
       "    <tr>\n",
       "      <th>1972 Summer</th>\n",
       "      <td>1214.0</td>\n",
       "      <td>24.818781</td>\n",
       "      <td>5.442053</td>\n",
       "      <td>13.0</td>\n",
       "      <td>21.0</td>\n",
       "      <td>24.0</td>\n",
       "      <td>27.00</td>\n",
       "      <td>60.0</td>\n",
       "    </tr>\n",
       "    <tr>\n",
       "      <th>1972 Winter</th>\n",
       "      <td>199.0</td>\n",
       "      <td>25.206030</td>\n",
       "      <td>4.637655</td>\n",
       "      <td>15.0</td>\n",
       "      <td>22.0</td>\n",
       "      <td>25.0</td>\n",
       "      <td>28.00</td>\n",
       "      <td>38.0</td>\n",
       "    </tr>\n",
       "    <tr>\n",
       "      <th>1976 Summer</th>\n",
       "      <td>1320.0</td>\n",
       "      <td>24.227273</td>\n",
       "      <td>4.874141</td>\n",
       "      <td>13.0</td>\n",
       "      <td>21.0</td>\n",
       "      <td>24.0</td>\n",
       "      <td>27.00</td>\n",
       "      <td>61.0</td>\n",
       "    </tr>\n",
       "    <tr>\n",
       "      <th>1976 Winter</th>\n",
       "      <td>211.0</td>\n",
       "      <td>25.383886</td>\n",
       "      <td>4.046106</td>\n",
       "      <td>15.0</td>\n",
       "      <td>22.5</td>\n",
       "      <td>25.0</td>\n",
       "      <td>28.00</td>\n",
       "      <td>38.0</td>\n",
       "    </tr>\n",
       "    <tr>\n",
       "      <th>1980 Summer</th>\n",
       "      <td>1384.0</td>\n",
       "      <td>24.281069</td>\n",
       "      <td>4.814541</td>\n",
       "      <td>14.0</td>\n",
       "      <td>21.0</td>\n",
       "      <td>24.0</td>\n",
       "      <td>27.00</td>\n",
       "      <td>57.0</td>\n",
       "    </tr>\n",
       "    <tr>\n",
       "      <th>1980 Winter</th>\n",
       "      <td>218.0</td>\n",
       "      <td>24.454128</td>\n",
       "      <td>4.278357</td>\n",
       "      <td>15.0</td>\n",
       "      <td>21.0</td>\n",
       "      <td>24.0</td>\n",
       "      <td>27.00</td>\n",
       "      <td>39.0</td>\n",
       "    </tr>\n",
       "    <tr>\n",
       "      <th>1984 Summer</th>\n",
       "      <td>1475.0</td>\n",
       "      <td>24.241356</td>\n",
       "      <td>4.731178</td>\n",
       "      <td>14.0</td>\n",
       "      <td>21.0</td>\n",
       "      <td>24.0</td>\n",
       "      <td>27.00</td>\n",
       "      <td>52.0</td>\n",
       "    </tr>\n",
       "    <tr>\n",
       "      <th>1984 Winter</th>\n",
       "      <td>222.0</td>\n",
       "      <td>24.351351</td>\n",
       "      <td>3.385218</td>\n",
       "      <td>17.0</td>\n",
       "      <td>22.0</td>\n",
       "      <td>24.0</td>\n",
       "      <td>26.75</td>\n",
       "      <td>35.0</td>\n",
       "    </tr>\n",
       "    <tr>\n",
       "      <th>1988 Summer</th>\n",
       "      <td>1582.0</td>\n",
       "      <td>24.432364</td>\n",
       "      <td>4.593278</td>\n",
       "      <td>14.0</td>\n",
       "      <td>22.0</td>\n",
       "      <td>24.0</td>\n",
       "      <td>27.00</td>\n",
       "      <td>56.0</td>\n",
       "    </tr>\n",
       "    <tr>\n",
       "      <th>1988 Winter</th>\n",
       "      <td>263.0</td>\n",
       "      <td>24.904943</td>\n",
       "      <td>3.411153</td>\n",
       "      <td>16.0</td>\n",
       "      <td>23.0</td>\n",
       "      <td>24.0</td>\n",
       "      <td>27.00</td>\n",
       "      <td>39.0</td>\n",
       "    </tr>\n",
       "    <tr>\n",
       "      <th>1992 Summer</th>\n",
       "      <td>1712.0</td>\n",
       "      <td>24.685164</td>\n",
       "      <td>4.824040</td>\n",
       "      <td>13.0</td>\n",
       "      <td>22.0</td>\n",
       "      <td>24.0</td>\n",
       "      <td>27.00</td>\n",
       "      <td>58.0</td>\n",
       "    </tr>\n",
       "    <tr>\n",
       "      <th>1992 Winter</th>\n",
       "      <td>318.0</td>\n",
       "      <td>24.578616</td>\n",
       "      <td>3.897558</td>\n",
       "      <td>16.0</td>\n",
       "      <td>22.0</td>\n",
       "      <td>24.0</td>\n",
       "      <td>27.00</td>\n",
       "      <td>41.0</td>\n",
       "    </tr>\n",
       "    <tr>\n",
       "      <th>1994 Winter</th>\n",
       "      <td>331.0</td>\n",
       "      <td>25.247734</td>\n",
       "      <td>4.199454</td>\n",
       "      <td>13.0</td>\n",
       "      <td>22.0</td>\n",
       "      <td>25.0</td>\n",
       "      <td>28.00</td>\n",
       "      <td>43.0</td>\n",
       "    </tr>\n",
       "    <tr>\n",
       "      <th>1996 Summer</th>\n",
       "      <td>1842.0</td>\n",
       "      <td>25.433225</td>\n",
       "      <td>4.752785</td>\n",
       "      <td>13.0</td>\n",
       "      <td>22.0</td>\n",
       "      <td>25.0</td>\n",
       "      <td>28.00</td>\n",
       "      <td>56.0</td>\n",
       "    </tr>\n",
       "    <tr>\n",
       "      <th>1998 Winter</th>\n",
       "      <td>440.0</td>\n",
       "      <td>26.050000</td>\n",
       "      <td>4.626580</td>\n",
       "      <td>15.0</td>\n",
       "      <td>23.0</td>\n",
       "      <td>26.0</td>\n",
       "      <td>29.00</td>\n",
       "      <td>50.0</td>\n",
       "    </tr>\n",
       "    <tr>\n",
       "      <th>2000 Summer</th>\n",
       "      <td>2004.0</td>\n",
       "      <td>26.110279</td>\n",
       "      <td>5.094054</td>\n",
       "      <td>15.0</td>\n",
       "      <td>23.0</td>\n",
       "      <td>26.0</td>\n",
       "      <td>29.00</td>\n",
       "      <td>47.0</td>\n",
       "    </tr>\n",
       "    <tr>\n",
       "      <th>2002 Winter</th>\n",
       "      <td>478.0</td>\n",
       "      <td>26.962343</td>\n",
       "      <td>5.139831</td>\n",
       "      <td>15.0</td>\n",
       "      <td>23.0</td>\n",
       "      <td>27.0</td>\n",
       "      <td>30.00</td>\n",
       "      <td>45.0</td>\n",
       "    </tr>\n",
       "    <tr>\n",
       "      <th>2004 Summer</th>\n",
       "      <td>2001.0</td>\n",
       "      <td>26.157421</td>\n",
       "      <td>5.176264</td>\n",
       "      <td>15.0</td>\n",
       "      <td>22.0</td>\n",
       "      <td>26.0</td>\n",
       "      <td>29.00</td>\n",
       "      <td>50.0</td>\n",
       "    </tr>\n",
       "    <tr>\n",
       "      <th>2006 Winter</th>\n",
       "      <td>526.0</td>\n",
       "      <td>27.338403</td>\n",
       "      <td>4.972642</td>\n",
       "      <td>15.0</td>\n",
       "      <td>24.0</td>\n",
       "      <td>28.0</td>\n",
       "      <td>31.00</td>\n",
       "      <td>49.0</td>\n",
       "    </tr>\n",
       "    <tr>\n",
       "      <th>2008 Summer</th>\n",
       "      <td>2048.0</td>\n",
       "      <td>26.046875</td>\n",
       "      <td>5.202471</td>\n",
       "      <td>15.0</td>\n",
       "      <td>23.0</td>\n",
       "      <td>25.0</td>\n",
       "      <td>29.00</td>\n",
       "      <td>61.0</td>\n",
       "    </tr>\n",
       "    <tr>\n",
       "      <th>2010 Winter</th>\n",
       "      <td>520.0</td>\n",
       "      <td>26.723077</td>\n",
       "      <td>4.959202</td>\n",
       "      <td>17.0</td>\n",
       "      <td>23.0</td>\n",
       "      <td>26.0</td>\n",
       "      <td>30.00</td>\n",
       "      <td>46.0</td>\n",
       "    </tr>\n",
       "    <tr>\n",
       "      <th>2012 Summer</th>\n",
       "      <td>1941.0</td>\n",
       "      <td>26.066461</td>\n",
       "      <td>4.949978</td>\n",
       "      <td>15.0</td>\n",
       "      <td>23.0</td>\n",
       "      <td>26.0</td>\n",
       "      <td>29.00</td>\n",
       "      <td>56.0</td>\n",
       "    </tr>\n",
       "    <tr>\n",
       "      <th>2014 Winter</th>\n",
       "      <td>597.0</td>\n",
       "      <td>26.644891</td>\n",
       "      <td>4.818992</td>\n",
       "      <td>15.0</td>\n",
       "      <td>23.0</td>\n",
       "      <td>26.0</td>\n",
       "      <td>29.00</td>\n",
       "      <td>43.0</td>\n",
       "    </tr>\n",
       "    <tr>\n",
       "      <th>2016 Summer</th>\n",
       "      <td>2023.0</td>\n",
       "      <td>26.325260</td>\n",
       "      <td>5.149783</td>\n",
       "      <td>15.0</td>\n",
       "      <td>23.0</td>\n",
       "      <td>26.0</td>\n",
       "      <td>29.00</td>\n",
       "      <td>58.0</td>\n",
       "    </tr>\n",
       "  </tbody>\n",
       "</table>\n",
       "</div>"
      ],
      "text/plain": [
       "              count       mean       std   min   25%   50%    75%   max\n",
       "Games                                                                  \n",
       "1896 Summer   101.0  23.217822  4.283933  10.0  20.0  23.0  26.00  36.0\n",
       "1900 Summer   468.0  28.433761  8.999280  15.0  22.0  26.0  33.00  71.0\n",
       "1904 Summer   422.0  26.485782  9.374172  14.0  21.0  24.0  28.75  68.0\n",
       "1906 Summer   307.0  26.931596  7.936341  14.0  22.0  25.0  29.00  54.0\n",
       "1908 Summer   765.0  27.739869  7.871617  16.0  22.0  26.0  31.00  60.0\n",
       "1912 Summer   934.0  27.506424  7.738869  15.0  22.0  26.0  31.00  64.0\n",
       "1920 Summer  1178.0  29.669779  8.311509  13.0  24.0  28.0  35.00  72.0\n",
       "1924 Summer   781.0  27.793854  7.649351  14.0  22.0  26.0  32.00  56.0\n",
       "1924 Winter   120.0  30.533333  8.703263  18.0  25.0  28.0  33.25  58.0\n",
       "1928 Summer   712.0  26.404494  8.079902  11.0  21.0  24.0  29.00  63.0\n",
       "1928 Winter    88.0  25.454545  5.741379  15.0  22.0  25.0  28.25  44.0\n",
       "1932 Summer   635.0  26.296063  7.538371  14.0  21.0  24.0  29.00  68.0\n",
       "1932 Winter    92.0  26.423913  6.056934  19.0  22.0  25.0  29.00  49.0\n",
       "1936 Summer   916.0  26.056769  6.491781  12.0  22.0  25.0  29.00  72.0\n",
       "1936 Winter   108.0  25.388889  4.577134  15.0  23.0  25.0  28.00  38.0\n",
       "1948 Summer   836.0  28.311005  7.729804  16.0  23.0  27.0  32.00  73.0\n",
       "1948 Winter   135.0  26.985185  5.326623  17.0  23.5  27.0  29.00  49.0\n",
       "1952 Summer   896.0  26.828125  6.806629  14.0  22.0  25.0  30.00  59.0\n",
       "1952 Winter   136.0  26.463235  5.110495  16.0  23.0  25.0  29.00  46.0\n",
       "1956 Summer   880.0  25.703409  5.973738  14.0  22.0  25.0  28.00  54.0\n",
       "1956 Winter   150.0  25.860000  4.571622  15.0  23.0  25.0  28.00  46.0\n",
       "1960 Summer   908.0  25.025330  5.947994  13.0  21.0  24.0  28.00  55.0\n",
       "1960 Winter   147.0  25.387755  4.236904  16.0  22.0  26.0  28.00  37.0\n",
       "1964 Summer  1027.0  25.190847  5.307741  14.0  22.0  25.0  27.00  60.0\n",
       "1964 Winter   186.0  25.532258  4.321102  14.0  23.0  25.0  28.00  36.0\n",
       "1968 Summer  1055.0  24.846445  5.717672  14.0  21.0  24.0  28.00  66.0\n",
       "1968 Winter   199.0  25.638191  4.293494  16.0  23.0  25.0  28.00  40.0\n",
       "1972 Summer  1214.0  24.818781  5.442053  13.0  21.0  24.0  27.00  60.0\n",
       "1972 Winter   199.0  25.206030  4.637655  15.0  22.0  25.0  28.00  38.0\n",
       "1976 Summer  1320.0  24.227273  4.874141  13.0  21.0  24.0  27.00  61.0\n",
       "1976 Winter   211.0  25.383886  4.046106  15.0  22.5  25.0  28.00  38.0\n",
       "1980 Summer  1384.0  24.281069  4.814541  14.0  21.0  24.0  27.00  57.0\n",
       "1980 Winter   218.0  24.454128  4.278357  15.0  21.0  24.0  27.00  39.0\n",
       "1984 Summer  1475.0  24.241356  4.731178  14.0  21.0  24.0  27.00  52.0\n",
       "1984 Winter   222.0  24.351351  3.385218  17.0  22.0  24.0  26.75  35.0\n",
       "1988 Summer  1582.0  24.432364  4.593278  14.0  22.0  24.0  27.00  56.0\n",
       "1988 Winter   263.0  24.904943  3.411153  16.0  23.0  24.0  27.00  39.0\n",
       "1992 Summer  1712.0  24.685164  4.824040  13.0  22.0  24.0  27.00  58.0\n",
       "1992 Winter   318.0  24.578616  3.897558  16.0  22.0  24.0  27.00  41.0\n",
       "1994 Winter   331.0  25.247734  4.199454  13.0  22.0  25.0  28.00  43.0\n",
       "1996 Summer  1842.0  25.433225  4.752785  13.0  22.0  25.0  28.00  56.0\n",
       "1998 Winter   440.0  26.050000  4.626580  15.0  23.0  26.0  29.00  50.0\n",
       "2000 Summer  2004.0  26.110279  5.094054  15.0  23.0  26.0  29.00  47.0\n",
       "2002 Winter   478.0  26.962343  5.139831  15.0  23.0  27.0  30.00  45.0\n",
       "2004 Summer  2001.0  26.157421  5.176264  15.0  22.0  26.0  29.00  50.0\n",
       "2006 Winter   526.0  27.338403  4.972642  15.0  24.0  28.0  31.00  49.0\n",
       "2008 Summer  2048.0  26.046875  5.202471  15.0  23.0  25.0  29.00  61.0\n",
       "2010 Winter   520.0  26.723077  4.959202  17.0  23.0  26.0  30.00  46.0\n",
       "2012 Summer  1941.0  26.066461  4.949978  15.0  23.0  26.0  29.00  56.0\n",
       "2014 Winter   597.0  26.644891  4.818992  15.0  23.0  26.0  29.00  43.0\n",
       "2016 Summer  2023.0  26.325260  5.149783  15.0  23.0  26.0  29.00  58.0"
      ]
     },
     "execution_count": 19,
     "metadata": {},
     "output_type": "execute_result"
    }
   ],
   "source": [
    "df_medals.groupby('Games')['Age'].describe()"
   ]
  },
  {
   "cell_type": "markdown",
   "metadata": {},
   "source": [
    "Description: group by 'Games', and describe the datas in 'Age' column in for each group"
   ]
  },
  {
   "cell_type": "markdown",
   "metadata": {
    "id": "pT0Eyl5baNF_"
   },
   "source": [
    "Q4. How many times has Usain St. Leo Bolt won a gold medal?"
   ]
  },
  {
   "cell_type": "code",
   "execution_count": 25,
   "metadata": {
    "id": "nHoO1bbxaNGA"
   },
   "outputs": [
    {
     "data": {
      "text/plain": [
       "8"
      ]
     },
     "execution_count": 25,
     "metadata": {},
     "output_type": "execute_result"
    }
   ],
   "source": [
    "df[(df['Medal']=='Gold')&(df['Name']=='Usain St. Leo Bolt')].shape[0]"
   ]
  },
  {
   "cell_type": "markdown",
   "metadata": {},
   "source": [
    "Description: filter rows with 'Medal' equals 'Gold' and 'Name' equals 'Usain St. Leo Bolt', and then count the number of rows."
   ]
  },
  {
   "cell_type": "markdown",
   "metadata": {
    "id": "BtNTaFkJaNGA"
   },
   "source": [
    "Q5. Which country has participated most often in an Olympic event?"
   ]
  },
  {
   "cell_type": "code",
   "execution_count": 28,
   "metadata": {
    "id": "66cazR0Nh-F_"
   },
   "outputs": [
    {
     "data": {
      "text/plain": [
       "Team\n",
       "United States    17847\n",
       "Name: Team, dtype: int64"
      ]
     },
     "execution_count": 28,
     "metadata": {},
     "output_type": "execute_result"
    }
   ],
   "source": [
    "df.groupby(\"Team\")['Team'].count().sort_values().tail(1)"
   ]
  },
  {
   "cell_type": "markdown",
   "metadata": {},
   "source": [
    "Description: group rows by values in 'Team' and then count and sort, and then use tail to get the country with highest counts."
   ]
  },
  {
   "cell_type": "markdown",
   "metadata": {
    "id": "BlOqRl6FaNGB"
   },
   "source": [
    "Q6. Which athlete has participated in the most Olympic events without ever winning a medal?"
   ]
  },
  {
   "cell_type": "code",
   "execution_count": 96,
   "metadata": {
    "id": "FeWOIcA2aNGB"
   },
   "outputs": [
    {
     "data": {
      "text/plain": [
       "ID      Name                 \n",
       "115354  Joseph \"Josy\" Stoffel    38\n",
       "Name: ID, dtype: int64"
      ]
     },
     "execution_count": 96,
     "metadata": {},
     "output_type": "execute_result"
    }
   ],
   "source": [
    "haveMedalIdList=df[df['Medal'].notnull()]['ID']\n",
    "df[~df['ID'].isin(haveMedalIdList)].groupby(['ID','Name'])['ID'].count().sort_values().tail(1)"
   ]
  },
  {
   "cell_type": "markdown",
   "metadata": {},
   "source": [
    "Description: In the first line, generate a list of IDs whose athletes have won at least one medal. In the second line, filter out the athletes who have won at least medal, then group by combination of ID and Name, and last count by ID and achieve the one with most counts."
   ]
  },
  {
   "cell_type": "markdown",
   "metadata": {
    "id": "LXbcurKeaNGD"
   },
   "source": [
    "Q7. Find the average age of female athletes at the 1998 Winter Olympics?"
   ]
  },
  {
   "cell_type": "code",
   "execution_count": 44,
   "metadata": {
    "id": "IabqH2NmaNGE"
   },
   "outputs": [
    {
     "data": {
      "text/plain": [
       "24.353323699421967"
      ]
     },
     "execution_count": 44,
     "metadata": {},
     "output_type": "execute_result"
    }
   ],
   "source": [
    "df[(df['Games']=='1998 Winter')&(df['Sex']=='F')]['Age'].mean()"
   ]
  },
  {
   "cell_type": "markdown",
   "metadata": {
    "id": "IabqH2NmaNGE"
   },
   "source": [
    "Description: filter rows with 'Games'='1998 Winter' and 'Sex'='F', then compute mean on age"
   ]
  },
  {
   "cell_type": "markdown",
   "metadata": {
    "id": "yR3qZ-jIaNGE"
   },
   "source": [
    "Q8. How many athletes have competed in both the summer and winter olympics?"
   ]
  },
  {
   "cell_type": "code",
   "execution_count": 48,
   "metadata": {
    "id": "W3Cuh8whaNGE"
   },
   "outputs": [
    {
     "data": {
      "text/plain": [
       "163"
      ]
     },
     "execution_count": 48,
     "metadata": {},
     "output_type": "execute_result"
    }
   ],
   "source": [
    "winter_df=df[df['Season']=='Winter']\n",
    "summer_df=df[df['Season']=='Summer']\n",
    "competeInBoth=winter_df[winter_df['ID'].isin(summer_df['ID'])]\n",
    "len(pd.unique(competeInBoth['ID']))"
   ]
  },
  {
   "cell_type": "markdown",
   "metadata": {
    "id": "W3Cuh8whaNGE"
   },
   "source": [
    "Description: In the first and second line, generate two dataframes with rows satisfying 'Games'='Winter' and 'Summer' respectively. In the third row, generate a new dataframe which only accepts rows in winter_df that has same ID with ID in summer_df. Last, count the number of unique IDs."
   ]
  },
  {
   "cell_type": "markdown",
   "metadata": {
    "id": "vjR1_0LqaNGF"
   },
   "source": [
    "Q9. How many gold medals did the United States win at the 2004 Summer Olympics? Note: For team sports, each team member's individual medal is counted as one, e.g. a team of 4 that wins a Gold medal for the US would add 4 medals to the US medal count, not just 1."
   ]
  },
  {
   "cell_type": "code",
   "execution_count": 50,
   "metadata": {
    "id": "ZnQ_XnXyaNGF"
   },
   "outputs": [
    {
     "data": {
      "text/plain": [
       "115"
      ]
     },
     "execution_count": 50,
     "metadata": {},
     "output_type": "execute_result"
    }
   ],
   "source": [
    "df_medals[(df_medals['Medal']=='Gold')&(df_medals['Team']=='United States')&(df_medals['Games']=='2004 Summer')]['ID'].count()"
   ]
  },
  {
   "cell_type": "markdown",
   "metadata": {},
   "source": [
    "Description: use the previously generated df_medals dataframe, and filter according to three requirements ('Medal', 'Team', and 'Games') and then count the number of rows."
   ]
  },
  {
   "cell_type": "markdown",
   "metadata": {
    "id": "6Rdd3pjfaNGG"
   },
   "source": [
    "Q10. Which winter Olympics have produced the least medals for the United States?"
   ]
  },
  {
   "cell_type": "code",
   "execution_count": 51,
   "metadata": {
    "id": "3ZnV3YdpaNGG"
   },
   "outputs": [
    {
     "data": {
      "text/plain": [
       "Games\n",
       "1928 Winter    4\n",
       "Name: ID, dtype: int64"
      ]
     },
     "execution_count": 51,
     "metadata": {},
     "output_type": "execute_result"
    }
   ],
   "source": [
    "df[(df['Medal'].notnull())&(df['Team']=='United States')&(df['Season']=='Winter')].groupby('Games')['ID'].count().sort_values().head(1)"
   ]
  },
  {
   "cell_type": "markdown",
   "metadata": {},
   "source": [
    "Description: First filter the dataframe with three requirements ('Medal', 'Team', and 'Season'), then group by 'Games' and count the number of rows within each group. Last, sort this count of each group and show the smallest one."
   ]
  },
  {
   "cell_type": "markdown",
   "metadata": {
    "id": "bk-ujkEwaNGG"
   },
   "source": [
    "Q11. What is the name of the Sport (Event) which won the most gold medals for Team USA in Olympics history? "
   ]
  },
  {
   "cell_type": "code",
   "execution_count": 53,
   "metadata": {
    "id": "H9HKBc1UmRWN"
   },
   "outputs": [
    {
     "data": {
      "text/plain": [
       "Event\n",
       "Basketball Men's Basketball    186\n",
       "Name: ID, dtype: int64"
      ]
     },
     "execution_count": 53,
     "metadata": {},
     "output_type": "execute_result"
    }
   ],
   "source": [
    "df[(df['Medal']=='Gold')&(df['Team']=='United States')].groupby('Event')['ID'].count().sort_values().tail(1)"
   ]
  },
  {
   "cell_type": "markdown",
   "metadata": {},
   "source": [
    "Description: filter the dataframe with the two requirements ('Medal' and 'Team') and then grouby 'Event' and count the number of rows within each group. Then, sort this count and show the largest one."
   ]
  },
  {
   "cell_type": "markdown",
   "metadata": {
    "id": "WXwnB-RSaNGH"
   },
   "source": [
    "Q12. From 2000-2021, which athlete won the most gold medals? (including both Summer and Winter)? "
   ]
  },
  {
   "cell_type": "code",
   "execution_count": 54,
   "metadata": {
    "id": "GuzsyxgzaNGH"
   },
   "outputs": [
    {
     "data": {
      "text/plain": [
       "ID     Name                   \n",
       "94406  Michael Fred Phelps, II    23\n",
       "Name: ID, dtype: int64"
      ]
     },
     "execution_count": 54,
     "metadata": {},
     "output_type": "execute_result"
    }
   ],
   "source": [
    "df[(df['Medal']=='Gold')&(df['Year'].isin(list(range(2000, 2022))))].groupby(['ID','Name'])['ID'].count().sort_values().tail(1)"
   ]
  },
  {
   "cell_type": "markdown",
   "metadata": {},
   "source": [
    "Description: filter the dataframe with the two requirements ('Medal' and 'Year') and then grouby 'ID' and 'Name' and count the number of rows within each group. Then, sort this count and show the largest one."
   ]
  },
  {
   "cell_type": "markdown",
   "metadata": {
    "id": "7uVp89s4aNGH"
   },
   "source": [
    "Q13. What is the total number of Gold medal won by India till now (including both Summer and Winter)?"
   ]
  },
  {
   "cell_type": "code",
   "execution_count": 55,
   "metadata": {
    "id": "sTKGFWwVaNGI"
   },
   "outputs": [
    {
     "data": {
      "text/plain": [
       "138"
      ]
     },
     "execution_count": 55,
     "metadata": {},
     "output_type": "execute_result"
    }
   ],
   "source": [
    "df[(df['Team']=='India')&(df['Medal']=='Gold')]['ID'].count()"
   ]
  },
  {
   "cell_type": "markdown",
   "metadata": {},
   "source": [
    "Description: filter the dataframe with the two requirements ('Team' and 'Medal') and then count the number of rows."
   ]
  },
  {
   "cell_type": "markdown",
   "metadata": {
    "id": "fie53PXraNGI"
   },
   "source": [
    "Q14. Which country won the second-highest number of medals at the 1976 Summer Olympics?"
   ]
  },
  {
   "cell_type": "code",
   "execution_count": 56,
   "metadata": {
    "id": "vkl-vuMDaNGI"
   },
   "outputs": [
    {
     "data": {
      "text/plain": [
       "Team\n",
       "East Germany    195\n",
       "Soviet Union    286\n",
       "Name: ID, dtype: int64"
      ]
     },
     "execution_count": 56,
     "metadata": {},
     "output_type": "execute_result"
    }
   ],
   "source": [
    "df[(df['Medal'].notnull())&(df['Games']=='1976 Summer')].groupby('Team')['ID'].count().sort_values().tail(2)"
   ]
  },
  {
   "cell_type": "markdown",
   "metadata": {},
   "source": [
    "Description: filter the dataframe with the two requirements ('Medal' and 'Games') and then grouby 'Team' and count the number of rows within each group. Then, sort this count and show the largest and second largest one."
   ]
  },
  {
   "cell_type": "markdown",
   "metadata": {
    "id": "KEauoiHqaNGJ"
   },
   "source": [
    "Q15. Where were the 1998 Winter Olympics held?"
   ]
  },
  {
   "cell_type": "code",
   "execution_count": 61,
   "metadata": {
    "id": "H_tP7Cw2aNGJ"
   },
   "outputs": [
    {
     "data": {
      "text/plain": [
       "Nagano    3605\n",
       "Name: City, dtype: int64"
      ]
     },
     "execution_count": 61,
     "metadata": {},
     "output_type": "execute_result"
    }
   ],
   "source": [
    "df[df['Games']=='1998 Winter']['City'].value_counts()"
   ]
  },
  {
   "cell_type": "markdown",
   "metadata": {},
   "source": [
    "Description: filter the dataframe with 'Games'='1998 Winter' and count the number of times each possible value occur(check whether all values are 'Nagano')."
   ]
  },
  {
   "cell_type": "markdown",
   "metadata": {
    "id": "nyJP5Oq7aNGK"
   },
   "source": [
    "Q16. In the 2012 Summer Olympics, which of the following countries won more medals than it did in the 2008 Summer Olympics?  Multiple Choice\n",
    "\n",
    "Canada, Australia, France, Kenya, United States"
   ]
  },
  {
   "cell_type": "code",
   "execution_count": 72,
   "metadata": {
    "id": "iAVm9JPbaNGK"
   },
   "outputs": [
    {
     "name": "stdout",
     "output_type": "stream",
     "text": [
      "20\n",
      "-35\n",
      "1\n",
      "-4\n",
      "-71\n"
     ]
    }
   ],
   "source": [
    "print(df[(df['Team']=='Canada')&(df['Games']=='2012 Summer')&(df['Medal'].notnull())]['ID'].count()-df[(df['Team']=='Canada')&(df['Games']=='2008 Summer')&(df['Medal'].notnull())]['ID'].count())\n",
    "print(df[(df['Team']=='Australia')&(df['Games']=='2012 Summer')&(df['Medal'].notnull())]['ID'].count()-df[(df['Team']=='Australia')&(df['Games']=='2008 Summer')&(df['Medal'].notnull())]['ID'].count())\n",
    "print(df[(df['Team']=='France')&(df['Games']=='2012 Summer')&(df['Medal'].notnull())]['ID'].count()-df[(df['Team']=='France')&(df['Games']=='2008 Summer')&(df['Medal'].notnull())]['ID'].count())\n",
    "print(df[(df['Team']=='Kenya')&(df['Games']=='2012 Summer')&(df['Medal'].notnull())]['ID'].count()-df[(df['Team']=='Kenya')&(df['Games']=='2008 Summer')&(df['Medal'].notnull())]['ID'].count())\n",
    "print(df[(df['Team']=='United States')&(df['Games']=='2012 Summer')&(df['Medal'].notnull())]['ID'].count()-df[(df['Team']=='United States')&(df['Games']=='2008 Summer')&(df['Medal'].notnull())]['ID'].count())"
   ]
  },
  {
   "cell_type": "markdown",
   "metadata": {},
   "source": [
    "Description: filter the dataframe with requirements on 'Team', 'Games' and 'Medal', and they count the number of rows. Do this count with both 2012 Summer and 2008 Summer for the same country and minus the result. Here the positive answer means that this country wins more in 2021 summer than in 2008 summer."
   ]
  },
  {
   "cell_type": "markdown",
   "metadata": {
    "id": "xp19MooUaNGM"
   },
   "source": [
    "Q17. Find the ratio of female and male participants(number of femal/number of male) in year 2000. Note: If for example a player has participated in more than one event then count them once. "
   ]
  },
  {
   "cell_type": "code",
   "execution_count": 75,
   "metadata": {
    "id": "H9Dfy02-aNGM"
   },
   "outputs": [
    {
     "data": {
      "text/plain": [
       "0.6183310533515732"
      ]
     },
     "execution_count": 75,
     "metadata": {},
     "output_type": "execute_result"
    }
   ],
   "source": [
    "(df[(df['Year']==2000)&(df['Sex']=='F')].groupby('ID').ngroups)/(df[(df['Year']==2000)&(df['Sex']=='M')].groupby('ID').ngroups)"
   ]
  },
  {
   "cell_type": "markdown",
   "metadata": {},
   "source": [
    "Description: filter the dataframe with 'Year'=2000 and 'Sex'='F' and 'M' respectively. Then in each condition, group by 'ID' and count the number of groups. Fianlly, devide the two number."
   ]
  },
  {
   "cell_type": "markdown",
   "metadata": {
    "id": "Tr_zbKuxaNGM"
   },
   "source": [
    "Q18. What is the average number of medals won by Germany between 1964 and 2008 at the Summer Olympics?"
   ]
  },
  {
   "cell_type": "code",
   "execution_count": 79,
   "metadata": {
    "id": "2gWGLIjEaNGN"
   },
   "outputs": [
    {
     "data": {
      "text/plain": [
       "132.0"
      ]
     },
     "execution_count": 79,
     "metadata": {},
     "output_type": "execute_result"
    }
   ],
   "source": [
    "df_for_use=df[(df['Team']=='Germany')&(df['Medal'].notnull())&(df['Season']=='Summer')&(df['Year'].isin(list(range(1964, 2009))))]\n",
    "df_for_use['ID'].count()/df_for_use.groupby('Games').ngroups"
   ]
  },
  {
   "cell_type": "markdown",
   "metadata": {},
   "source": [
    "Description: In the first line, generate a dataframe where all the requirements are met. In the second line, compute the avearge value by letting count of all medals divided by number of 'Games'."
   ]
  },
  {
   "cell_type": "markdown",
   "metadata": {
    "id": "43Pn3dHNaNGN"
   },
   "source": [
    "Q19. Which plotting technique would you use to compare the  total medals won by Germany between 1964 and 2008? Plot a graph, showing the same."
   ]
  },
  {
   "cell_type": "code",
   "execution_count": 87,
   "metadata": {
    "id": "QHu7pm9faNGN"
   },
   "outputs": [
    {
     "data": {
      "text/plain": [
       "<AxesSubplot:xlabel='Year', ylabel='Number of Medals'>"
      ]
     },
     "execution_count": 87,
     "metadata": {},
     "output_type": "execute_result"
    },
    {
     "data": {
      "image/png": "[encoded data removed]",
      "text/plain": [
       "<Figure size 640x480 with 1 Axes>"
      ]
     },
     "metadata": {},
     "output_type": "display_data"
    }
   ],
   "source": [
    "df_for_use1=df[(df['Team']=='Germany')&(df['Medal'].notnull())&(df['Year'].isin(list(range(1964, 2009))))]\n",
    "group_for_plot=df_for_use1[['ID','Year']].groupby('Year').aggregate({'count'})\n",
    "group_for_plot.plot.bar(ylabel='Number of Medals',legend=False)"
   ]
  },
  {
   "cell_type": "markdown",
   "metadata": {},
   "source": [
    "Description: within the four choices, bar chart is the most suitable chart format since it can most explicitly show the number of medals within each year within the given range, and has a quite clear visualization of comparison of number of medals for two years. Regarding the code, in the first line, genenrate a dataframe which satisfies all given requirements. In the second line, use only 'ID' and 'Year' column and group by 'Year' and count the number of rows within each group. In the last line, plot the bar chart."
   ]
  }
 ],
 "metadata": {
  "colab": {
   "provenance": []
  },
  "kernelspec": {
   "display_name": "Python 3 (ipykernel)",
   "language": "python",
   "name": "python3"
  },
  "language_info": {
   "codemirror_mode": {
    "name": "ipython",
    "version": 3
   },
   "file_extension": ".py",
   "mimetype": "text/x-python",
   "name": "python",
   "nbconvert_exporter": "python",
   "pygments_lexer": "ipython3",
   "version": "3.9.13"
  },
  "vscode": {
   "interpreter": {
    "hash": "40d3a090f54c6569ab1632332b64b2c03c39dcf918b08424e98f38b5ae0af88f"
   }
  }
 },
 "nbformat": 4,
 "nbformat_minor": 4
}
